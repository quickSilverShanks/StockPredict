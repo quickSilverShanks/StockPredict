{
  "nbformat": 4,
  "nbformat_minor": 0,
  "metadata": {
    "colab": {
      "name": "Predicting Stock Price Movement from News Articles and Headlines (BERT)",
      "provenance": [],
      "collapsed_sections": []
    },
    "kernelspec": {
      "name": "python3",
      "display_name": "Python 3"
    },
    "widgets": {
      "application/vnd.jupyter.widget-state+json": {
        "50098983d33d4cfeb8ca14fb8e020aac": {
          "model_module": "@jupyter-widgets/controls",
          "model_name": "HBoxModel",
          "state": {
            "_view_name": "HBoxView",
            "_dom_classes": [],
            "_model_name": "HBoxModel",
            "_view_module": "@jupyter-widgets/controls",
            "_model_module_version": "1.5.0",
            "_view_count": null,
            "_view_module_version": "1.5.0",
            "box_style": "",
            "layout": "IPY_MODEL_6e10bfa118664571a03d708a728932e2",
            "_model_module": "@jupyter-widgets/controls",
            "children": [
              "IPY_MODEL_71cbf6498e114f129edc2497d95035ad",
              "IPY_MODEL_ddbdf5713bb840d08d225db95de867ec"
            ]
          }
        },
        "6e10bfa118664571a03d708a728932e2": {
          "model_module": "@jupyter-widgets/base",
          "model_name": "LayoutModel",
          "state": {
            "_view_name": "LayoutView",
            "grid_template_rows": null,
            "right": null,
            "justify_content": null,
            "_view_module": "@jupyter-widgets/base",
            "overflow": null,
            "_model_module_version": "1.2.0",
            "_view_count": null,
            "flex_flow": null,
            "width": null,
            "min_width": null,
            "border": null,
            "align_items": null,
            "bottom": null,
            "_model_module": "@jupyter-widgets/base",
            "top": null,
            "grid_column": null,
            "overflow_y": null,
            "overflow_x": null,
            "grid_auto_flow": null,
            "grid_area": null,
            "grid_template_columns": null,
            "flex": null,
            "_model_name": "LayoutModel",
            "justify_items": null,
            "grid_row": null,
            "max_height": null,
            "align_content": null,
            "visibility": null,
            "align_self": null,
            "height": null,
            "min_height": null,
            "padding": null,
            "grid_auto_rows": null,
            "grid_gap": null,
            "max_width": null,
            "order": null,
            "_view_module_version": "1.2.0",
            "grid_template_areas": null,
            "object_position": null,
            "object_fit": null,
            "grid_auto_columns": null,
            "margin": null,
            "display": null,
            "left": null
          }
        },
        "71cbf6498e114f129edc2497d95035ad": {
          "model_module": "@jupyter-widgets/controls",
          "model_name": "FloatProgressModel",
          "state": {
            "_view_name": "ProgressView",
            "style": "IPY_MODEL_d7eb9c9b9f5f40999c391459b7d8881c",
            "_dom_classes": [],
            "description": "Downloading: 100%",
            "_model_name": "FloatProgressModel",
            "bar_style": "success",
            "max": 231508,
            "_view_module": "@jupyter-widgets/controls",
            "_model_module_version": "1.5.0",
            "value": 231508,
            "_view_count": null,
            "_view_module_version": "1.5.0",
            "orientation": "horizontal",
            "min": 0,
            "description_tooltip": null,
            "_model_module": "@jupyter-widgets/controls",
            "layout": "IPY_MODEL_dabf2c1566aa4ba389663f9302b22a54"
          }
        },
        "ddbdf5713bb840d08d225db95de867ec": {
          "model_module": "@jupyter-widgets/controls",
          "model_name": "HTMLModel",
          "state": {
            "_view_name": "HTMLView",
            "style": "IPY_MODEL_b2c52b6e07c44f90a394a595614c8036",
            "_dom_classes": [],
            "description": "",
            "_model_name": "HTMLModel",
            "placeholder": "​",
            "_view_module": "@jupyter-widgets/controls",
            "_model_module_version": "1.5.0",
            "value": " 232k/232k [00:00&lt;00:00, 803kB/s]",
            "_view_count": null,
            "_view_module_version": "1.5.0",
            "description_tooltip": null,
            "_model_module": "@jupyter-widgets/controls",
            "layout": "IPY_MODEL_29e9eb90b23249419d7e70c485db7752"
          }
        },
        "d7eb9c9b9f5f40999c391459b7d8881c": {
          "model_module": "@jupyter-widgets/controls",
          "model_name": "ProgressStyleModel",
          "state": {
            "_view_name": "StyleView",
            "_model_name": "ProgressStyleModel",
            "description_width": "initial",
            "_view_module": "@jupyter-widgets/base",
            "_model_module_version": "1.5.0",
            "_view_count": null,
            "_view_module_version": "1.2.0",
            "bar_color": null,
            "_model_module": "@jupyter-widgets/controls"
          }
        },
        "dabf2c1566aa4ba389663f9302b22a54": {
          "model_module": "@jupyter-widgets/base",
          "model_name": "LayoutModel",
          "state": {
            "_view_name": "LayoutView",
            "grid_template_rows": null,
            "right": null,
            "justify_content": null,
            "_view_module": "@jupyter-widgets/base",
            "overflow": null,
            "_model_module_version": "1.2.0",
            "_view_count": null,
            "flex_flow": null,
            "width": null,
            "min_width": null,
            "border": null,
            "align_items": null,
            "bottom": null,
            "_model_module": "@jupyter-widgets/base",
            "top": null,
            "grid_column": null,
            "overflow_y": null,
            "overflow_x": null,
            "grid_auto_flow": null,
            "grid_area": null,
            "grid_template_columns": null,
            "flex": null,
            "_model_name": "LayoutModel",
            "justify_items": null,
            "grid_row": null,
            "max_height": null,
            "align_content": null,
            "visibility": null,
            "align_self": null,
            "height": null,
            "min_height": null,
            "padding": null,
            "grid_auto_rows": null,
            "grid_gap": null,
            "max_width": null,
            "order": null,
            "_view_module_version": "1.2.0",
            "grid_template_areas": null,
            "object_position": null,
            "object_fit": null,
            "grid_auto_columns": null,
            "margin": null,
            "display": null,
            "left": null
          }
        },
        "b2c52b6e07c44f90a394a595614c8036": {
          "model_module": "@jupyter-widgets/controls",
          "model_name": "DescriptionStyleModel",
          "state": {
            "_view_name": "StyleView",
            "_model_name": "DescriptionStyleModel",
            "description_width": "",
            "_view_module": "@jupyter-widgets/base",
            "_model_module_version": "1.5.0",
            "_view_count": null,
            "_view_module_version": "1.2.0",
            "_model_module": "@jupyter-widgets/controls"
          }
        },
        "29e9eb90b23249419d7e70c485db7752": {
          "model_module": "@jupyter-widgets/base",
          "model_name": "LayoutModel",
          "state": {
            "_view_name": "LayoutView",
            "grid_template_rows": null,
            "right": null,
            "justify_content": null,
            "_view_module": "@jupyter-widgets/base",
            "overflow": null,
            "_model_module_version": "1.2.0",
            "_view_count": null,
            "flex_flow": null,
            "width": null,
            "min_width": null,
            "border": null,
            "align_items": null,
            "bottom": null,
            "_model_module": "@jupyter-widgets/base",
            "top": null,
            "grid_column": null,
            "overflow_y": null,
            "overflow_x": null,
            "grid_auto_flow": null,
            "grid_area": null,
            "grid_template_columns": null,
            "flex": null,
            "_model_name": "LayoutModel",
            "justify_items": null,
            "grid_row": null,
            "max_height": null,
            "align_content": null,
            "visibility": null,
            "align_self": null,
            "height": null,
            "min_height": null,
            "padding": null,
            "grid_auto_rows": null,
            "grid_gap": null,
            "max_width": null,
            "order": null,
            "_view_module_version": "1.2.0",
            "grid_template_areas": null,
            "object_position": null,
            "object_fit": null,
            "grid_auto_columns": null,
            "margin": null,
            "display": null,
            "left": null
          }
        },
        "734b0bf14d584b6e9e248bee7346dcc1": {
          "model_module": "@jupyter-widgets/controls",
          "model_name": "HBoxModel",
          "state": {
            "_view_name": "HBoxView",
            "_dom_classes": [],
            "_model_name": "HBoxModel",
            "_view_module": "@jupyter-widgets/controls",
            "_model_module_version": "1.5.0",
            "_view_count": null,
            "_view_module_version": "1.5.0",
            "box_style": "",
            "layout": "IPY_MODEL_a8451e12ccfb4761813cce0b67d0c72f",
            "_model_module": "@jupyter-widgets/controls",
            "children": [
              "IPY_MODEL_b164edffb8a64a0ba884e28667944f1d",
              "IPY_MODEL_34a79f5eeebb4ab1b63a726999fb7cf8"
            ]
          }
        },
        "a8451e12ccfb4761813cce0b67d0c72f": {
          "model_module": "@jupyter-widgets/base",
          "model_name": "LayoutModel",
          "state": {
            "_view_name": "LayoutView",
            "grid_template_rows": null,
            "right": null,
            "justify_content": null,
            "_view_module": "@jupyter-widgets/base",
            "overflow": null,
            "_model_module_version": "1.2.0",
            "_view_count": null,
            "flex_flow": null,
            "width": null,
            "min_width": null,
            "border": null,
            "align_items": null,
            "bottom": null,
            "_model_module": "@jupyter-widgets/base",
            "top": null,
            "grid_column": null,
            "overflow_y": null,
            "overflow_x": null,
            "grid_auto_flow": null,
            "grid_area": null,
            "grid_template_columns": null,
            "flex": null,
            "_model_name": "LayoutModel",
            "justify_items": null,
            "grid_row": null,
            "max_height": null,
            "align_content": null,
            "visibility": null,
            "align_self": null,
            "height": null,
            "min_height": null,
            "padding": null,
            "grid_auto_rows": null,
            "grid_gap": null,
            "max_width": null,
            "order": null,
            "_view_module_version": "1.2.0",
            "grid_template_areas": null,
            "object_position": null,
            "object_fit": null,
            "grid_auto_columns": null,
            "margin": null,
            "display": null,
            "left": null
          }
        },
        "b164edffb8a64a0ba884e28667944f1d": {
          "model_module": "@jupyter-widgets/controls",
          "model_name": "FloatProgressModel",
          "state": {
            "_view_name": "ProgressView",
            "style": "IPY_MODEL_dbe5fbc5053944ac9ffa4dad5b3053e1",
            "_dom_classes": [],
            "description": "Downloading: 100%",
            "_model_name": "FloatProgressModel",
            "bar_style": "success",
            "max": 433,
            "_view_module": "@jupyter-widgets/controls",
            "_model_module_version": "1.5.0",
            "value": 433,
            "_view_count": null,
            "_view_module_version": "1.5.0",
            "orientation": "horizontal",
            "min": 0,
            "description_tooltip": null,
            "_model_module": "@jupyter-widgets/controls",
            "layout": "IPY_MODEL_bc250a633f3441f683dee7f461d19636"
          }
        },
        "34a79f5eeebb4ab1b63a726999fb7cf8": {
          "model_module": "@jupyter-widgets/controls",
          "model_name": "HTMLModel",
          "state": {
            "_view_name": "HTMLView",
            "style": "IPY_MODEL_c4e475d478bc4b7f9824703ff74a1d1f",
            "_dom_classes": [],
            "description": "",
            "_model_name": "HTMLModel",
            "placeholder": "​",
            "_view_module": "@jupyter-widgets/controls",
            "_model_module_version": "1.5.0",
            "value": " 433/433 [00:00&lt;00:00, 1.77kB/s]",
            "_view_count": null,
            "_view_module_version": "1.5.0",
            "description_tooltip": null,
            "_model_module": "@jupyter-widgets/controls",
            "layout": "IPY_MODEL_1669f5f4f2a840a6b991d43f4032cafd"
          }
        },
        "dbe5fbc5053944ac9ffa4dad5b3053e1": {
          "model_module": "@jupyter-widgets/controls",
          "model_name": "ProgressStyleModel",
          "state": {
            "_view_name": "StyleView",
            "_model_name": "ProgressStyleModel",
            "description_width": "initial",
            "_view_module": "@jupyter-widgets/base",
            "_model_module_version": "1.5.0",
            "_view_count": null,
            "_view_module_version": "1.2.0",
            "bar_color": null,
            "_model_module": "@jupyter-widgets/controls"
          }
        },
        "bc250a633f3441f683dee7f461d19636": {
          "model_module": "@jupyter-widgets/base",
          "model_name": "LayoutModel",
          "state": {
            "_view_name": "LayoutView",
            "grid_template_rows": null,
            "right": null,
            "justify_content": null,
            "_view_module": "@jupyter-widgets/base",
            "overflow": null,
            "_model_module_version": "1.2.0",
            "_view_count": null,
            "flex_flow": null,
            "width": null,
            "min_width": null,
            "border": null,
            "align_items": null,
            "bottom": null,
            "_model_module": "@jupyter-widgets/base",
            "top": null,
            "grid_column": null,
            "overflow_y": null,
            "overflow_x": null,
            "grid_auto_flow": null,
            "grid_area": null,
            "grid_template_columns": null,
            "flex": null,
            "_model_name": "LayoutModel",
            "justify_items": null,
            "grid_row": null,
            "max_height": null,
            "align_content": null,
            "visibility": null,
            "align_self": null,
            "height": null,
            "min_height": null,
            "padding": null,
            "grid_auto_rows": null,
            "grid_gap": null,
            "max_width": null,
            "order": null,
            "_view_module_version": "1.2.0",
            "grid_template_areas": null,
            "object_position": null,
            "object_fit": null,
            "grid_auto_columns": null,
            "margin": null,
            "display": null,
            "left": null
          }
        },
        "c4e475d478bc4b7f9824703ff74a1d1f": {
          "model_module": "@jupyter-widgets/controls",
          "model_name": "DescriptionStyleModel",
          "state": {
            "_view_name": "StyleView",
            "_model_name": "DescriptionStyleModel",
            "description_width": "",
            "_view_module": "@jupyter-widgets/base",
            "_model_module_version": "1.5.0",
            "_view_count": null,
            "_view_module_version": "1.2.0",
            "_model_module": "@jupyter-widgets/controls"
          }
        },
        "1669f5f4f2a840a6b991d43f4032cafd": {
          "model_module": "@jupyter-widgets/base",
          "model_name": "LayoutModel",
          "state": {
            "_view_name": "LayoutView",
            "grid_template_rows": null,
            "right": null,
            "justify_content": null,
            "_view_module": "@jupyter-widgets/base",
            "overflow": null,
            "_model_module_version": "1.2.0",
            "_view_count": null,
            "flex_flow": null,
            "width": null,
            "min_width": null,
            "border": null,
            "align_items": null,
            "bottom": null,
            "_model_module": "@jupyter-widgets/base",
            "top": null,
            "grid_column": null,
            "overflow_y": null,
            "overflow_x": null,
            "grid_auto_flow": null,
            "grid_area": null,
            "grid_template_columns": null,
            "flex": null,
            "_model_name": "LayoutModel",
            "justify_items": null,
            "grid_row": null,
            "max_height": null,
            "align_content": null,
            "visibility": null,
            "align_self": null,
            "height": null,
            "min_height": null,
            "padding": null,
            "grid_auto_rows": null,
            "grid_gap": null,
            "max_width": null,
            "order": null,
            "_view_module_version": "1.2.0",
            "grid_template_areas": null,
            "object_position": null,
            "object_fit": null,
            "grid_auto_columns": null,
            "margin": null,
            "display": null,
            "left": null
          }
        },
        "dc7d8a7d8ea54af3a2781fec914ecb09": {
          "model_module": "@jupyter-widgets/controls",
          "model_name": "HBoxModel",
          "state": {
            "_view_name": "HBoxView",
            "_dom_classes": [],
            "_model_name": "HBoxModel",
            "_view_module": "@jupyter-widgets/controls",
            "_model_module_version": "1.5.0",
            "_view_count": null,
            "_view_module_version": "1.5.0",
            "box_style": "",
            "layout": "IPY_MODEL_2dd5a555a9a14203a8afad1fabf4a61b",
            "_model_module": "@jupyter-widgets/controls",
            "children": [
              "IPY_MODEL_62fd6cfd885b4fd292b1034d68ab1db3",
              "IPY_MODEL_8b16af807e8a469584fb919cbdf4998d"
            ]
          }
        },
        "2dd5a555a9a14203a8afad1fabf4a61b": {
          "model_module": "@jupyter-widgets/base",
          "model_name": "LayoutModel",
          "state": {
            "_view_name": "LayoutView",
            "grid_template_rows": null,
            "right": null,
            "justify_content": null,
            "_view_module": "@jupyter-widgets/base",
            "overflow": null,
            "_model_module_version": "1.2.0",
            "_view_count": null,
            "flex_flow": null,
            "width": null,
            "min_width": null,
            "border": null,
            "align_items": null,
            "bottom": null,
            "_model_module": "@jupyter-widgets/base",
            "top": null,
            "grid_column": null,
            "overflow_y": null,
            "overflow_x": null,
            "grid_auto_flow": null,
            "grid_area": null,
            "grid_template_columns": null,
            "flex": null,
            "_model_name": "LayoutModel",
            "justify_items": null,
            "grid_row": null,
            "max_height": null,
            "align_content": null,
            "visibility": null,
            "align_self": null,
            "height": null,
            "min_height": null,
            "padding": null,
            "grid_auto_rows": null,
            "grid_gap": null,
            "max_width": null,
            "order": null,
            "_view_module_version": "1.2.0",
            "grid_template_areas": null,
            "object_position": null,
            "object_fit": null,
            "grid_auto_columns": null,
            "margin": null,
            "display": null,
            "left": null
          }
        },
        "62fd6cfd885b4fd292b1034d68ab1db3": {
          "model_module": "@jupyter-widgets/controls",
          "model_name": "FloatProgressModel",
          "state": {
            "_view_name": "ProgressView",
            "style": "IPY_MODEL_94c94011f6664203bb9fdd281165c6e3",
            "_dom_classes": [],
            "description": "Downloading: 100%",
            "_model_name": "FloatProgressModel",
            "bar_style": "success",
            "max": 440473133,
            "_view_module": "@jupyter-widgets/controls",
            "_model_module_version": "1.5.0",
            "value": 440473133,
            "_view_count": null,
            "_view_module_version": "1.5.0",
            "orientation": "horizontal",
            "min": 0,
            "description_tooltip": null,
            "_model_module": "@jupyter-widgets/controls",
            "layout": "IPY_MODEL_bc9fda4c6ccb4c52bea780a2c702ba4e"
          }
        },
        "8b16af807e8a469584fb919cbdf4998d": {
          "model_module": "@jupyter-widgets/controls",
          "model_name": "HTMLModel",
          "state": {
            "_view_name": "HTMLView",
            "style": "IPY_MODEL_0b465c208eb2483d896fcb8c240df30f",
            "_dom_classes": [],
            "description": "",
            "_model_name": "HTMLModel",
            "placeholder": "​",
            "_view_module": "@jupyter-widgets/controls",
            "_model_module_version": "1.5.0",
            "value": " 440M/440M [00:06&lt;00:00, 66.3MB/s]",
            "_view_count": null,
            "_view_module_version": "1.5.0",
            "description_tooltip": null,
            "_model_module": "@jupyter-widgets/controls",
            "layout": "IPY_MODEL_7fdc420986fe40aba6282d047ef6858e"
          }
        },
        "94c94011f6664203bb9fdd281165c6e3": {
          "model_module": "@jupyter-widgets/controls",
          "model_name": "ProgressStyleModel",
          "state": {
            "_view_name": "StyleView",
            "_model_name": "ProgressStyleModel",
            "description_width": "initial",
            "_view_module": "@jupyter-widgets/base",
            "_model_module_version": "1.5.0",
            "_view_count": null,
            "_view_module_version": "1.2.0",
            "bar_color": null,
            "_model_module": "@jupyter-widgets/controls"
          }
        },
        "bc9fda4c6ccb4c52bea780a2c702ba4e": {
          "model_module": "@jupyter-widgets/base",
          "model_name": "LayoutModel",
          "state": {
            "_view_name": "LayoutView",
            "grid_template_rows": null,
            "right": null,
            "justify_content": null,
            "_view_module": "@jupyter-widgets/base",
            "overflow": null,
            "_model_module_version": "1.2.0",
            "_view_count": null,
            "flex_flow": null,
            "width": null,
            "min_width": null,
            "border": null,
            "align_items": null,
            "bottom": null,
            "_model_module": "@jupyter-widgets/base",
            "top": null,
            "grid_column": null,
            "overflow_y": null,
            "overflow_x": null,
            "grid_auto_flow": null,
            "grid_area": null,
            "grid_template_columns": null,
            "flex": null,
            "_model_name": "LayoutModel",
            "justify_items": null,
            "grid_row": null,
            "max_height": null,
            "align_content": null,
            "visibility": null,
            "align_self": null,
            "height": null,
            "min_height": null,
            "padding": null,
            "grid_auto_rows": null,
            "grid_gap": null,
            "max_width": null,
            "order": null,
            "_view_module_version": "1.2.0",
            "grid_template_areas": null,
            "object_position": null,
            "object_fit": null,
            "grid_auto_columns": null,
            "margin": null,
            "display": null,
            "left": null
          }
        },
        "0b465c208eb2483d896fcb8c240df30f": {
          "model_module": "@jupyter-widgets/controls",
          "model_name": "DescriptionStyleModel",
          "state": {
            "_view_name": "StyleView",
            "_model_name": "DescriptionStyleModel",
            "description_width": "",
            "_view_module": "@jupyter-widgets/base",
            "_model_module_version": "1.5.0",
            "_view_count": null,
            "_view_module_version": "1.2.0",
            "_model_module": "@jupyter-widgets/controls"
          }
        },
        "7fdc420986fe40aba6282d047ef6858e": {
          "model_module": "@jupyter-widgets/base",
          "model_name": "LayoutModel",
          "state": {
            "_view_name": "LayoutView",
            "grid_template_rows": null,
            "right": null,
            "justify_content": null,
            "_view_module": "@jupyter-widgets/base",
            "overflow": null,
            "_model_module_version": "1.2.0",
            "_view_count": null,
            "flex_flow": null,
            "width": null,
            "min_width": null,
            "border": null,
            "align_items": null,
            "bottom": null,
            "_model_module": "@jupyter-widgets/base",
            "top": null,
            "grid_column": null,
            "overflow_y": null,
            "overflow_x": null,
            "grid_auto_flow": null,
            "grid_area": null,
            "grid_template_columns": null,
            "flex": null,
            "_model_name": "LayoutModel",
            "justify_items": null,
            "grid_row": null,
            "max_height": null,
            "align_content": null,
            "visibility": null,
            "align_self": null,
            "height": null,
            "min_height": null,
            "padding": null,
            "grid_auto_rows": null,
            "grid_gap": null,
            "max_width": null,
            "order": null,
            "_view_module_version": "1.2.0",
            "grid_template_areas": null,
            "object_position": null,
            "object_fit": null,
            "grid_auto_columns": null,
            "margin": null,
            "display": null,
            "left": null
          }
        }
      }
    },
    "accelerator": "GPU"
  },
  "cells": [
    {
      "cell_type": "markdown",
      "metadata": {
        "id": "kQvpU3ZmHenq"
      },
      "source": [
        "**Importing Libraries and Setting Up Notebook**"
      ]
    },
    {
      "cell_type": "code",
      "metadata": {
        "id": "cZalNEtsc3BY",
        "colab": {
          "base_uri": "https://localhost:8080/"
        },
        "outputId": "3cea56e1-d44e-4ddc-bd90-6ff5a70fd29e"
      },
      "source": [
        "!nvidia-smi"
      ],
      "execution_count": 1,
      "outputs": [
        {
          "output_type": "stream",
          "text": [
            "Wed Feb 10 09:12:22 2021       \n",
            "+-----------------------------------------------------------------------------+\n",
            "| NVIDIA-SMI 460.39       Driver Version: 418.67       CUDA Version: 10.1     |\n",
            "|-------------------------------+----------------------+----------------------+\n",
            "| GPU  Name        Persistence-M| Bus-Id        Disp.A | Volatile Uncorr. ECC |\n",
            "| Fan  Temp  Perf  Pwr:Usage/Cap|         Memory-Usage | GPU-Util  Compute M. |\n",
            "|                               |                      |               MIG M. |\n",
            "|===============================+======================+======================|\n",
            "|   0  Tesla T4            Off  | 00000000:00:04.0 Off |                    0 |\n",
            "| N/A   48C    P8    10W /  70W |      0MiB / 15079MiB |      0%      Default |\n",
            "|                               |                      |                 ERR! |\n",
            "+-------------------------------+----------------------+----------------------+\n",
            "                                                                               \n",
            "+-----------------------------------------------------------------------------+\n",
            "| Processes:                                                                  |\n",
            "|  GPU   GI   CI        PID   Type   Process name                  GPU Memory |\n",
            "|        ID   ID                                                   Usage      |\n",
            "|=============================================================================|\n",
            "|  No running processes found                                                 |\n",
            "+-----------------------------------------------------------------------------+\n"
          ],
          "name": "stdout"
        }
      ]
    },
    {
      "cell_type": "code",
      "metadata": {
        "colab": {
          "base_uri": "https://localhost:8080/"
        },
        "id": "rjX9faOtH9sq",
        "outputId": "68fc34d4-4e2f-4a4f-a252-89583435cbee"
      },
      "source": [
        "from google.colab import drive\r\n",
        "drive.mount('/content/drive')"
      ],
      "execution_count": 2,
      "outputs": [
        {
          "output_type": "stream",
          "text": [
            "Mounted at /content/drive\n"
          ],
          "name": "stdout"
        }
      ]
    },
    {
      "cell_type": "code",
      "metadata": {
        "colab": {
          "base_uri": "https://localhost:8080/"
        },
        "id": "r9WceH7bHBaQ",
        "outputId": "2489a850-03cc-4dd0-df77-2384c3f2c3a3"
      },
      "source": [
        "!pip install transformers"
      ],
      "execution_count": 3,
      "outputs": [
        {
          "output_type": "stream",
          "text": [
            "Collecting transformers\n",
            "\u001b[?25l  Downloading https://files.pythonhosted.org/packages/98/87/ef312eef26f5cecd8b17ae9654cdd8d1fae1eb6dbd87257d6d73c128a4d0/transformers-4.3.2-py3-none-any.whl (1.8MB)\n",
            "\u001b[K     |████████████████████████████████| 1.8MB 7.7MB/s \n",
            "\u001b[?25hRequirement already satisfied: regex!=2019.12.17 in /usr/local/lib/python3.6/dist-packages (from transformers) (2019.12.20)\n",
            "Requirement already satisfied: requests in /usr/local/lib/python3.6/dist-packages (from transformers) (2.23.0)\n",
            "Requirement already satisfied: importlib-metadata; python_version < \"3.8\" in /usr/local/lib/python3.6/dist-packages (from transformers) (3.4.0)\n",
            "Collecting tokenizers<0.11,>=0.10.1\n",
            "\u001b[?25l  Downloading https://files.pythonhosted.org/packages/fd/5b/44baae602e0a30bcc53fbdbc60bd940c15e143d252d658dfdefce736ece5/tokenizers-0.10.1-cp36-cp36m-manylinux2010_x86_64.whl (3.2MB)\n",
            "\u001b[K     |████████████████████████████████| 3.2MB 41.2MB/s \n",
            "\u001b[?25hRequirement already satisfied: numpy>=1.17 in /usr/local/lib/python3.6/dist-packages (from transformers) (1.19.5)\n",
            "Requirement already satisfied: filelock in /usr/local/lib/python3.6/dist-packages (from transformers) (3.0.12)\n",
            "Requirement already satisfied: dataclasses; python_version < \"3.7\" in /usr/local/lib/python3.6/dist-packages (from transformers) (0.8)\n",
            "Requirement already satisfied: packaging in /usr/local/lib/python3.6/dist-packages (from transformers) (20.9)\n",
            "Requirement already satisfied: tqdm>=4.27 in /usr/local/lib/python3.6/dist-packages (from transformers) (4.41.1)\n",
            "Collecting sacremoses\n",
            "\u001b[?25l  Downloading https://files.pythonhosted.org/packages/7d/34/09d19aff26edcc8eb2a01bed8e98f13a1537005d31e95233fd48216eed10/sacremoses-0.0.43.tar.gz (883kB)\n",
            "\u001b[K     |████████████████████████████████| 890kB 49.1MB/s \n",
            "\u001b[?25hRequirement already satisfied: urllib3!=1.25.0,!=1.25.1,<1.26,>=1.21.1 in /usr/local/lib/python3.6/dist-packages (from requests->transformers) (1.24.3)\n",
            "Requirement already satisfied: idna<3,>=2.5 in /usr/local/lib/python3.6/dist-packages (from requests->transformers) (2.10)\n",
            "Requirement already satisfied: certifi>=2017.4.17 in /usr/local/lib/python3.6/dist-packages (from requests->transformers) (2020.12.5)\n",
            "Requirement already satisfied: chardet<4,>=3.0.2 in /usr/local/lib/python3.6/dist-packages (from requests->transformers) (3.0.4)\n",
            "Requirement already satisfied: zipp>=0.5 in /usr/local/lib/python3.6/dist-packages (from importlib-metadata; python_version < \"3.8\"->transformers) (3.4.0)\n",
            "Requirement already satisfied: typing-extensions>=3.6.4; python_version < \"3.8\" in /usr/local/lib/python3.6/dist-packages (from importlib-metadata; python_version < \"3.8\"->transformers) (3.7.4.3)\n",
            "Requirement already satisfied: pyparsing>=2.0.2 in /usr/local/lib/python3.6/dist-packages (from packaging->transformers) (2.4.7)\n",
            "Requirement already satisfied: six in /usr/local/lib/python3.6/dist-packages (from sacremoses->transformers) (1.15.0)\n",
            "Requirement already satisfied: click in /usr/local/lib/python3.6/dist-packages (from sacremoses->transformers) (7.1.2)\n",
            "Requirement already satisfied: joblib in /usr/local/lib/python3.6/dist-packages (from sacremoses->transformers) (1.0.0)\n",
            "Building wheels for collected packages: sacremoses\n",
            "  Building wheel for sacremoses (setup.py) ... \u001b[?25l\u001b[?25hdone\n",
            "  Created wheel for sacremoses: filename=sacremoses-0.0.43-cp36-none-any.whl size=893261 sha256=98b56a3eb476be21536ecad4728ec02b594b9f229292fe316c664b184a07b42c\n",
            "  Stored in directory: /root/.cache/pip/wheels/29/3c/fd/7ce5c3f0666dab31a50123635e6fb5e19ceb42ce38d4e58f45\n",
            "Successfully built sacremoses\n",
            "Installing collected packages: tokenizers, sacremoses, transformers\n",
            "Successfully installed sacremoses-0.0.43 tokenizers-0.10.1 transformers-4.3.2\n"
          ],
          "name": "stdout"
        }
      ]
    },
    {
      "cell_type": "code",
      "metadata": {
        "id": "ij6lkeSDGu4l"
      },
      "source": [
        "import torch\r\n",
        "from torch import nn\r\n",
        "from torch.utils import data\r\n",
        "import torch.nn.functional as F\r\n",
        "import json\r\n",
        "\r\n",
        "import pandas as pd\r\n",
        "import numpy as np\r\n",
        "from sklearn.model_selection import train_test_split\r\n",
        "import matplotlib.pyplot as plt\r\n",
        "%matplotlib inline\r\n",
        "from tqdm import tqdm\r\n",
        "from collections import defaultdict\r\n",
        "\r\n",
        "import transformers\r\n",
        "from transformers import BertTokenizer, BertModel, AdamW, get_linear_schedule_with_warmup"
      ],
      "execution_count": 4,
      "outputs": []
    },
    {
      "cell_type": "code",
      "metadata": {
        "colab": {
          "base_uri": "https://localhost:8080/"
        },
        "id": "6HWxzLHMG6W3",
        "outputId": "64e70d7e-1009-429b-ca47-f9aecdf92e6e"
      },
      "source": [
        "print(torch.__version__)\r\n",
        "print(transformers.__version__)"
      ],
      "execution_count": 5,
      "outputs": [
        {
          "output_type": "stream",
          "text": [
            "1.7.0+cu101\n",
            "4.3.2\n"
          ],
          "name": "stdout"
        }
      ]
    },
    {
      "cell_type": "markdown",
      "metadata": {
        "id": "7rXgnPHCHsYS"
      },
      "source": [
        "**Importing Source Data and Exploratory Data Analysis**"
      ]
    },
    {
      "cell_type": "code",
      "metadata": {
        "colab": {
          "base_uri": "https://localhost:8080/",
          "height": 35
        },
        "id": "MkD5fwJ9HUYw",
        "outputId": "81862b56-b91b-431f-a5d2-6a015d5bd6d8"
      },
      "source": [
        "pwd"
      ],
      "execution_count": 6,
      "outputs": [
        {
          "output_type": "execute_result",
          "data": {
            "application/vnd.google.colaboratory.intrinsic+json": {
              "type": "string"
            },
            "text/plain": [
              "'/content'"
            ]
          },
          "metadata": {
            "tags": []
          },
          "execution_count": 6
        }
      ]
    },
    {
      "cell_type": "code",
      "metadata": {
        "colab": {
          "base_uri": "https://localhost:8080/",
          "height": 458
        },
        "id": "3RUSQFMdIj1T",
        "outputId": "00183c81-3218-431e-b9fd-0f20d725ed0a"
      },
      "source": [
        "data_src_main  = pd.read_pickle(\"/content/drive/MyDrive/Data/stockpredict/nlpbase_id20201219.pkl\")\r\n",
        "print(data_src_main.shape)\r\n",
        "data_src_main.head(3)"
      ],
      "execution_count": 7,
      "outputs": [
        {
          "output_type": "stream",
          "text": [
            "(68840, 27)\n"
          ],
          "name": "stdout"
        },
        {
          "output_type": "execute_result",
          "data": {
            "text/html": [
              "<div>\n",
              "<style scoped>\n",
              "    .dataframe tbody tr th:only-of-type {\n",
              "        vertical-align: middle;\n",
              "    }\n",
              "\n",
              "    .dataframe tbody tr th {\n",
              "        vertical-align: top;\n",
              "    }\n",
              "\n",
              "    .dataframe thead th {\n",
              "        text-align: right;\n",
              "    }\n",
              "</style>\n",
              "<table border=\"1\" class=\"dataframe\">\n",
              "  <thead>\n",
              "    <tr style=\"text-align: right;\">\n",
              "      <th></th>\n",
              "      <th>Date</th>\n",
              "      <th>Open</th>\n",
              "      <th>High</th>\n",
              "      <th>Low</th>\n",
              "      <th>Close</th>\n",
              "      <th>Adj Close</th>\n",
              "      <th>Volume</th>\n",
              "      <th>Day</th>\n",
              "      <th>close_d1</th>\n",
              "      <th>close_d2</th>\n",
              "      <th>close_d3</th>\n",
              "      <th>close_d4</th>\n",
              "      <th>change_d1</th>\n",
              "      <th>change_d2</th>\n",
              "      <th>change_d3</th>\n",
              "      <th>change_d4</th>\n",
              "      <th>target_d1</th>\n",
              "      <th>target_d2</th>\n",
              "      <th>target_d3</th>\n",
              "      <th>target_d4</th>\n",
              "      <th>input_day</th>\n",
              "      <th>Published_Dates</th>\n",
              "      <th>Headlines</th>\n",
              "      <th>Articles</th>\n",
              "      <th>ByLines</th>\n",
              "      <th>Portal</th>\n",
              "      <th>Sections</th>\n",
              "    </tr>\n",
              "  </thead>\n",
              "  <tbody>\n",
              "    <tr>\n",
              "      <th>0</th>\n",
              "      <td>2019-01-07</td>\n",
              "      <td>1107.000000</td>\n",
              "      <td>1118.449951</td>\n",
              "      <td>1101.0</td>\n",
              "      <td>1104.750000</td>\n",
              "      <td>1094.612793</td>\n",
              "      <td>5513559.0</td>\n",
              "      <td>Monday</td>\n",
              "      <td>1104.650024</td>\n",
              "      <td>1110.75</td>\n",
              "      <td>1107.500000</td>\n",
              "      <td>1098.050049</td>\n",
              "      <td>-0.099976</td>\n",
              "      <td>6.000000</td>\n",
              "      <td>2.750000</td>\n",
              "      <td>-6.699951</td>\n",
              "      <td>0.0</td>\n",
              "      <td>1.0</td>\n",
              "      <td>1.0</td>\n",
              "      <td>0.0</td>\n",
              "      <td>0</td>\n",
              "      <td>2019-01-07</td>\n",
              "      <td>Jio continues to capture market share; Vodafon...</td>\n",
              "      <td>The entry of Reliance Jio Infocomm (Jio) had t...</td>\n",
              "      <td>Moneycontrol.com</td>\n",
              "      <td>MoneyControl</td>\n",
              "      <td>NaN</td>\n",
              "    </tr>\n",
              "    <tr>\n",
              "      <th>1</th>\n",
              "      <td>2019-01-07</td>\n",
              "      <td>1107.000000</td>\n",
              "      <td>1118.449951</td>\n",
              "      <td>1101.0</td>\n",
              "      <td>1104.750000</td>\n",
              "      <td>1094.612793</td>\n",
              "      <td>5513559.0</td>\n",
              "      <td>Monday</td>\n",
              "      <td>1104.650024</td>\n",
              "      <td>1110.75</td>\n",
              "      <td>1107.500000</td>\n",
              "      <td>1098.050049</td>\n",
              "      <td>-0.099976</td>\n",
              "      <td>6.000000</td>\n",
              "      <td>2.750000</td>\n",
              "      <td>-6.699951</td>\n",
              "      <td>0.0</td>\n",
              "      <td>1.0</td>\n",
              "      <td>1.0</td>\n",
              "      <td>0.0</td>\n",
              "      <td>0</td>\n",
              "      <td>2019-01-07</td>\n",
              "      <td>RIL gains nearly 2% after CLSA maintains buy r...</td>\n",
              "      <td>Global brokerage house CLSA has maintained buy...</td>\n",
              "      <td>Moneycontrol.com</td>\n",
              "      <td>MoneyControl</td>\n",
              "      <td>NaN</td>\n",
              "    </tr>\n",
              "    <tr>\n",
              "      <th>2</th>\n",
              "      <td>2019-01-08</td>\n",
              "      <td>1105.099976</td>\n",
              "      <td>1109.949951</td>\n",
              "      <td>1096.0</td>\n",
              "      <td>1104.650024</td>\n",
              "      <td>1094.513794</td>\n",
              "      <td>5625153.0</td>\n",
              "      <td>Tuesday</td>\n",
              "      <td>1110.750000</td>\n",
              "      <td>1107.50</td>\n",
              "      <td>1098.050049</td>\n",
              "      <td>1096.800049</td>\n",
              "      <td>6.099976</td>\n",
              "      <td>2.849976</td>\n",
              "      <td>-6.599975</td>\n",
              "      <td>-7.849975</td>\n",
              "      <td>1.0</td>\n",
              "      <td>1.0</td>\n",
              "      <td>0.0</td>\n",
              "      <td>0.0</td>\n",
              "      <td>1</td>\n",
              "      <td>2019-01-07</td>\n",
              "      <td>Jio continues to capture market share; Vodafon...</td>\n",
              "      <td>The entry of Reliance Jio Infocomm (Jio) had t...</td>\n",
              "      <td>Moneycontrol.com</td>\n",
              "      <td>MoneyControl</td>\n",
              "      <td>NaN</td>\n",
              "    </tr>\n",
              "  </tbody>\n",
              "</table>\n",
              "</div>"
            ],
            "text/plain": [
              "        Date         Open         High  ...           ByLines        Portal  Sections\n",
              "0 2019-01-07  1107.000000  1118.449951  ...  Moneycontrol.com  MoneyControl       NaN\n",
              "1 2019-01-07  1107.000000  1118.449951  ...  Moneycontrol.com  MoneyControl       NaN\n",
              "2 2019-01-08  1105.099976  1109.949951  ...  Moneycontrol.com  MoneyControl       NaN\n",
              "\n",
              "[3 rows x 27 columns]"
            ]
          },
          "metadata": {
            "tags": []
          },
          "execution_count": 7
        }
      ]
    },
    {
      "cell_type": "code",
      "metadata": {
        "colab": {
          "base_uri": "https://localhost:8080/"
        },
        "id": "Me9TqspM-7PY",
        "outputId": "b7e6d567-9ab3-4ea4-eced-46e177858608"
      },
      "source": [
        "data_src_main[np.isnan(data_src_main['target_d1'])]['Date'].value_counts()"
      ],
      "execution_count": 8,
      "outputs": [
        {
          "output_type": "execute_result",
          "data": {
            "text/plain": [
              "2019-10-27    257\n",
              "2019-10-25    250\n",
              "Name: Date, dtype: int64"
            ]
          },
          "metadata": {
            "tags": []
          },
          "execution_count": 8
        }
      ]
    },
    {
      "cell_type": "code",
      "metadata": {
        "id": "Y93mGjgFAd53",
        "colab": {
          "base_uri": "https://localhost:8080/"
        },
        "outputId": "2107b1c7-4597-4ca8-d4b2-72acd7befb60"
      },
      "source": [
        "data_src = data_src_main[~np.isnan(data_src_main['target_d1'])].copy()\r\n",
        "print(data_src.shape)"
      ],
      "execution_count": 37,
      "outputs": [
        {
          "output_type": "stream",
          "text": [
            "(68333, 27)\n"
          ],
          "name": "stdout"
        }
      ]
    },
    {
      "cell_type": "code",
      "metadata": {
        "colab": {
          "base_uri": "https://localhost:8080/"
        },
        "id": "o9W8kbYhJRxz",
        "outputId": "fa98120a-2649-40e8-80fc-23d9804ef517"
      },
      "source": [
        "print(data_src.iloc[0]['Headlines'])\r\n",
        "print(data_src.iloc[0]['Articles'])"
      ],
      "execution_count": 39,
      "outputs": [
        {
          "output_type": "stream",
          "text": [
            "Jio continues to capture market share; Vodafone-Idea cedes ground\n",
            "The entry of Reliance Jio Infocomm (Jio) had turned the tables in the Indian telecommunication space. Jio’s freebies intensified the price war leading to consolidation in the industry and elimination of marginal players. Big players faced the heat due to a steady decline in Average Revenue Per User (ARPU) and found it difficult to maintain their market share as Jio’s competitive pricing helped it dd new customers. This trend continues and was visible in the latest subscriber addition numbers reported by Telecom Regulatory Authority of India (TRAI)..For more research articles, visit our Moneycontrol Research page\n"
          ],
          "name": "stdout"
        }
      ]
    },
    {
      "cell_type": "code",
      "metadata": {
        "id": "WscSgEYRRSSg"
      },
      "source": [
        "data_src['num_words'] = data_src['Articles'].apply(lambda x : len(x.split()))"
      ],
      "execution_count": 40,
      "outputs": []
    },
    {
      "cell_type": "code",
      "metadata": {
        "colab": {
          "base_uri": "https://localhost:8080/"
        },
        "id": "U8B9eHQKRSPH",
        "outputId": "081d25b6-c171-46cb-e557-9a13dc8fb78b"
      },
      "source": [
        "data_src['num_words'].describe()"
      ],
      "execution_count": 41,
      "outputs": [
        {
          "output_type": "execute_result",
          "data": {
            "text/plain": [
              "count    68333.000000\n",
              "mean       314.006834\n",
              "std        306.924212\n",
              "min          0.000000\n",
              "25%        191.000000\n",
              "50%        260.000000\n",
              "75%        366.000000\n",
              "max      10698.000000\n",
              "Name: num_words, dtype: float64"
            ]
          },
          "metadata": {
            "tags": []
          },
          "execution_count": 41
        }
      ]
    },
    {
      "cell_type": "code",
      "metadata": {
        "colab": {
          "base_uri": "https://localhost:8080/"
        },
        "id": "B6nKe7uvVTe5",
        "outputId": "14f08507-bbc1-4993-e146-154f62e5edf9"
      },
      "source": [
        "print(len(data_src[data_src['num_words'] >= 1000]))\r\n",
        "print(len(data_src[data_src['num_words'] > 512]))\r\n",
        "print(len(data_src[data_src['num_words'] == 0]))"
      ],
      "execution_count": 42,
      "outputs": [
        {
          "output_type": "stream",
          "text": [
            "824\n",
            "7526\n",
            "193\n"
          ],
          "name": "stdout"
        }
      ]
    },
    {
      "cell_type": "code",
      "metadata": {
        "colab": {
          "base_uri": "https://localhost:8080/"
        },
        "id": "YOqKJvfS8xPF",
        "outputId": "121d119d-4b1f-4c72-e076-6b2b2512900b"
      },
      "source": [
        "data_src[data_src['num_words'] > 512]['Portal'].value_counts()"
      ],
      "execution_count": 43,
      "outputs": [
        {
          "output_type": "execute_result",
          "data": {
            "text/plain": [
              "MoneyControl    5278\n",
              "TheHindu        2248\n",
              "Name: Portal, dtype: int64"
            ]
          },
          "metadata": {
            "tags": []
          },
          "execution_count": 43
        }
      ]
    },
    {
      "cell_type": "code",
      "metadata": {
        "colab": {
          "base_uri": "https://localhost:8080/",
          "height": 282
        },
        "id": "Zc0PPBpLRSFi",
        "outputId": "023c4174-0004-4a06-967e-b71a597df6f4"
      },
      "source": [
        "data_src[(data_src['num_words'] != 0) & (data_src['num_words'] < 1000)]['num_words'].plot.hist(bins=50)"
      ],
      "execution_count": 44,
      "outputs": [
        {
          "output_type": "execute_result",
          "data": {
            "text/plain": [
              "<matplotlib.axes._subplots.AxesSubplot at 0x7f7e022e6a20>"
            ]
          },
          "metadata": {
            "tags": []
          },
          "execution_count": 44
        },
        {
          "output_type": "display_data",
          "data": {
            "image/png": "[encoded data removed]",
            "text/plain": [
              "<Figure size 432x288 with 1 Axes>"
            ]
          },
          "metadata": {
            "tags": [],
            "needs_background": "light"
          }
        }
      ]
    },
    {
      "cell_type": "code",
      "metadata": {
        "id": "QMNEY5nE-yKI"
      },
      "source": [
        "data_src['num_words_hdl'] = data_src['Headlines'].apply(lambda x : len(x.split()))"
      ],
      "execution_count": 45,
      "outputs": []
    },
    {
      "cell_type": "code",
      "metadata": {
        "colab": {
          "base_uri": "https://localhost:8080/",
          "height": 282
        },
        "id": "PuGQRscqFuGq",
        "outputId": "064ac42b-1360-4182-f09b-0481c4fb173a"
      },
      "source": [
        "data_src['num_words_hdl'].plot.hist()"
      ],
      "execution_count": 46,
      "outputs": [
        {
          "output_type": "execute_result",
          "data": {
            "text/plain": [
              "<matplotlib.axes._subplots.AxesSubplot at 0x7f7e027a34a8>"
            ]
          },
          "metadata": {
            "tags": []
          },
          "execution_count": 46
        },
        {
          "output_type": "display_data",
          "data": {
            "image/png": "[encoded data removed]",
            "text/plain": [
              "<Figure size 432x288 with 1 Axes>"
            ]
          },
          "metadata": {
            "tags": [],
            "needs_background": "light"
          }
        }
      ]
    },
    {
      "cell_type": "code",
      "metadata": {
        "colab": {
          "base_uri": "https://localhost:8080/",
          "height": 508
        },
        "id": "o8XUWc1P-yTQ",
        "outputId": "841acbe8-d36e-44c8-c810-284a68ef1c0c"
      },
      "source": [
        "fig, axs = plt.subplots(2, 6, figsize=(18, 8), sharey=False)\r\n",
        "\r\n",
        "axs[0][0].hist(data_src[data_src['Portal']=='MoneyControl']['target_d1'])\r\n",
        "axs[0][1].hist(data_src[data_src['Portal']=='MoneyControl']['target_d2'])\r\n",
        "axs[0][2].hist(data_src[data_src['Portal']=='MoneyControl']['target_d3'])\r\n",
        "axs[0][3].hist(data_src[data_src['Portal']=='MoneyControl']['target_d4'])\r\n",
        "\r\n",
        "axs[1][0].hist(data_src[data_src['Portal']=='TheHindu']['target_d1'])\r\n",
        "axs[1][1].hist(data_src[data_src['Portal']=='TheHindu']['target_d2'])\r\n",
        "axs[1][2].hist(data_src[data_src['Portal']=='TheHindu']['target_d3'])\r\n",
        "axs[1][3].hist(data_src[data_src['Portal']=='TheHindu']['target_d4'])\r\n",
        "\r\n",
        "axs[0][4].hist(data_src[data_src['Portal']=='MoneyControl']['num_words_hdl'])\r\n",
        "axs[1][4].hist(data_src[data_src['Portal']=='TheHindu']['num_words_hdl'])\r\n",
        "\r\n",
        "axs[0][5].hist(data_src[data_src['Portal']=='MoneyControl']['num_words'])\r\n",
        "axs[1][5].hist(data_src[data_src['Portal']=='TheHindu']['num_words'])\r\n",
        "\r\n",
        "plt.tight_layout()"
      ],
      "execution_count": 47,
      "outputs": [
        {
          "output_type": "display_data",
          "data": {
            "image/png": "[encoded data removed]",
            "text/plain": [
              "<Figure size 1296x576 with 12 Axes>"
            ]
          },
          "metadata": {
            "tags": [],
            "needs_background": "light"
          }
        }
      ]
    },
    {
      "cell_type": "code",
      "metadata": {
        "colab": {
          "base_uri": "https://localhost:8080/"
        },
        "id": "algNSkaiTn3m",
        "outputId": "2c2841b6-0e16-41ef-e135-419c99cfb4c3"
      },
      "source": [
        "print(len(data_src[data_src['num_words_hdl'] == 0]))"
      ],
      "execution_count": 48,
      "outputs": [
        {
          "output_type": "stream",
          "text": [
            "0\n"
          ],
          "name": "stdout"
        }
      ]
    },
    {
      "cell_type": "code",
      "metadata": {
        "colab": {
          "base_uri": "https://localhost:8080/"
        },
        "id": "XMVm4AhB8iAK",
        "outputId": "53f9561b-5dc8-43c0-c205-1956d78512e3"
      },
      "source": [
        "print(data_src.shape)\r\n",
        "data_src = data_src[~np.isnan(data_src_main['target_d1']) & (data_src_main['Portal']=='MoneyControl')].copy()\r\n",
        "print(data_src.shape)\r\n",
        "data_src = data_src[data_src['num_words'] != 0].copy()\r\n",
        "print(data_src.shape)"
      ],
      "execution_count": 49,
      "outputs": [
        {
          "output_type": "stream",
          "text": [
            "(68333, 29)\n",
            "(32480, 29)\n",
            "(32287, 29)\n"
          ],
          "name": "stdout"
        },
        {
          "output_type": "stream",
          "text": [
            "/usr/local/lib/python3.6/dist-packages/ipykernel_launcher.py:2: UserWarning: Boolean Series key will be reindexed to match DataFrame index.\n",
            "  \n"
          ],
          "name": "stderr"
        }
      ]
    },
    {
      "cell_type": "code",
      "metadata": {
        "colab": {
          "base_uri": "https://localhost:8080/"
        },
        "id": "0ImceEsNU2iy",
        "outputId": "cd22ecb9-1505-496c-e614-08510ddf23d0"
      },
      "source": [
        "print(\"Sections :\",data_src['Sections'].value_counts())\r\n",
        "print(\"ByLines :\",data_src['ByLines'].value_counts())"
      ],
      "execution_count": 53,
      "outputs": [
        {
          "output_type": "stream",
          "text": [
            "Sections : Series([], Name: Sections, dtype: int64)\n",
            "ByLines : Moneycontrol.com    24419\n",
            "PTI                  6937\n",
            "Reuters               591\n",
            "CNBC-TV18             233\n",
            "Mint                   79\n",
            "Tech2                   5\n",
            "Housing.com             5\n",
            "Capitalmind             5\n",
            "Hindustan Times         5\n",
            "NEWS18.com              4\n",
            "AP                      4\n",
            "Name: ByLines, dtype: int64\n"
          ],
          "name": "stdout"
        }
      ]
    },
    {
      "cell_type": "code",
      "metadata": {
        "id": "4nwHGKgNT3bu"
      },
      "source": [
        "data_src['Headlines_inptxt'] = data_src.apply(lambda x : x['Day'] + '. ' + x['ByLines'].replace(' ', '').replace('.', '_') + '. ' + x['Headlines'], axis=1)"
      ],
      "execution_count": 63,
      "outputs": []
    },
    {
      "cell_type": "code",
      "metadata": {
        "colab": {
          "base_uri": "https://localhost:8080/",
          "height": 442
        },
        "id": "Y-O4OdbvUDJ3",
        "outputId": "4c4db46f-2443-4cf8-ddbc-bac18d705367"
      },
      "source": [
        "data_src.head(3)"
      ],
      "execution_count": 64,
      "outputs": [
        {
          "output_type": "execute_result",
          "data": {
            "text/html": [
              "<div>\n",
              "<style scoped>\n",
              "    .dataframe tbody tr th:only-of-type {\n",
              "        vertical-align: middle;\n",
              "    }\n",
              "\n",
              "    .dataframe tbody tr th {\n",
              "        vertical-align: top;\n",
              "    }\n",
              "\n",
              "    .dataframe thead th {\n",
              "        text-align: right;\n",
              "    }\n",
              "</style>\n",
              "<table border=\"1\" class=\"dataframe\">\n",
              "  <thead>\n",
              "    <tr style=\"text-align: right;\">\n",
              "      <th></th>\n",
              "      <th>Date</th>\n",
              "      <th>Open</th>\n",
              "      <th>High</th>\n",
              "      <th>Low</th>\n",
              "      <th>Close</th>\n",
              "      <th>Adj Close</th>\n",
              "      <th>Volume</th>\n",
              "      <th>Day</th>\n",
              "      <th>close_d1</th>\n",
              "      <th>close_d2</th>\n",
              "      <th>close_d3</th>\n",
              "      <th>close_d4</th>\n",
              "      <th>change_d1</th>\n",
              "      <th>change_d2</th>\n",
              "      <th>change_d3</th>\n",
              "      <th>change_d4</th>\n",
              "      <th>target_d1</th>\n",
              "      <th>target_d2</th>\n",
              "      <th>target_d3</th>\n",
              "      <th>target_d4</th>\n",
              "      <th>input_day</th>\n",
              "      <th>Published_Dates</th>\n",
              "      <th>Headlines</th>\n",
              "      <th>Articles</th>\n",
              "      <th>ByLines</th>\n",
              "      <th>Portal</th>\n",
              "      <th>Sections</th>\n",
              "      <th>num_words</th>\n",
              "      <th>num_words_hdl</th>\n",
              "      <th>Headlines_inptxt</th>\n",
              "    </tr>\n",
              "  </thead>\n",
              "  <tbody>\n",
              "    <tr>\n",
              "      <th>0</th>\n",
              "      <td>2019-01-07</td>\n",
              "      <td>1107.000000</td>\n",
              "      <td>1118.449951</td>\n",
              "      <td>1101.0</td>\n",
              "      <td>1104.750000</td>\n",
              "      <td>1094.612793</td>\n",
              "      <td>5513559.0</td>\n",
              "      <td>Monday</td>\n",
              "      <td>1104.650024</td>\n",
              "      <td>1110.75</td>\n",
              "      <td>1107.500000</td>\n",
              "      <td>1098.050049</td>\n",
              "      <td>-0.099976</td>\n",
              "      <td>6.000000</td>\n",
              "      <td>2.750000</td>\n",
              "      <td>-6.699951</td>\n",
              "      <td>0.0</td>\n",
              "      <td>1.0</td>\n",
              "      <td>1.0</td>\n",
              "      <td>0.0</td>\n",
              "      <td>0</td>\n",
              "      <td>2019-01-07</td>\n",
              "      <td>Jio continues to capture market share; Vodafon...</td>\n",
              "      <td>The entry of Reliance Jio Infocomm (Jio) had t...</td>\n",
              "      <td>Moneycontrol.com</td>\n",
              "      <td>MoneyControl</td>\n",
              "      <td>NaN</td>\n",
              "      <td>95</td>\n",
              "      <td>9</td>\n",
              "      <td>Monday. Moneycontrol_com. Jio continues to cap...</td>\n",
              "    </tr>\n",
              "    <tr>\n",
              "      <th>1</th>\n",
              "      <td>2019-01-07</td>\n",
              "      <td>1107.000000</td>\n",
              "      <td>1118.449951</td>\n",
              "      <td>1101.0</td>\n",
              "      <td>1104.750000</td>\n",
              "      <td>1094.612793</td>\n",
              "      <td>5513559.0</td>\n",
              "      <td>Monday</td>\n",
              "      <td>1104.650024</td>\n",
              "      <td>1110.75</td>\n",
              "      <td>1107.500000</td>\n",
              "      <td>1098.050049</td>\n",
              "      <td>-0.099976</td>\n",
              "      <td>6.000000</td>\n",
              "      <td>2.750000</td>\n",
              "      <td>-6.699951</td>\n",
              "      <td>0.0</td>\n",
              "      <td>1.0</td>\n",
              "      <td>1.0</td>\n",
              "      <td>0.0</td>\n",
              "      <td>0</td>\n",
              "      <td>2019-01-07</td>\n",
              "      <td>RIL gains nearly 2% after CLSA maintains buy r...</td>\n",
              "      <td>Global brokerage house CLSA has maintained buy...</td>\n",
              "      <td>Moneycontrol.com</td>\n",
              "      <td>MoneyControl</td>\n",
              "      <td>NaN</td>\n",
              "      <td>298</td>\n",
              "      <td>12</td>\n",
              "      <td>Monday. Moneycontrol_com. RIL gains nearly 2% ...</td>\n",
              "    </tr>\n",
              "    <tr>\n",
              "      <th>2</th>\n",
              "      <td>2019-01-08</td>\n",
              "      <td>1105.099976</td>\n",
              "      <td>1109.949951</td>\n",
              "      <td>1096.0</td>\n",
              "      <td>1104.650024</td>\n",
              "      <td>1094.513794</td>\n",
              "      <td>5625153.0</td>\n",
              "      <td>Tuesday</td>\n",
              "      <td>1110.750000</td>\n",
              "      <td>1107.50</td>\n",
              "      <td>1098.050049</td>\n",
              "      <td>1096.800049</td>\n",
              "      <td>6.099976</td>\n",
              "      <td>2.849976</td>\n",
              "      <td>-6.599975</td>\n",
              "      <td>-7.849975</td>\n",
              "      <td>1.0</td>\n",
              "      <td>1.0</td>\n",
              "      <td>0.0</td>\n",
              "      <td>0.0</td>\n",
              "      <td>1</td>\n",
              "      <td>2019-01-07</td>\n",
              "      <td>Jio continues to capture market share; Vodafon...</td>\n",
              "      <td>The entry of Reliance Jio Infocomm (Jio) had t...</td>\n",
              "      <td>Moneycontrol.com</td>\n",
              "      <td>MoneyControl</td>\n",
              "      <td>NaN</td>\n",
              "      <td>95</td>\n",
              "      <td>9</td>\n",
              "      <td>Tuesday. Moneycontrol_com. Jio continues to ca...</td>\n",
              "    </tr>\n",
              "  </tbody>\n",
              "</table>\n",
              "</div>"
            ],
            "text/plain": [
              "        Date  ...                                   Headlines_inptxt\n",
              "0 2019-01-07  ...  Monday. Moneycontrol_com. Jio continues to cap...\n",
              "1 2019-01-07  ...  Monday. Moneycontrol_com. RIL gains nearly 2% ...\n",
              "2 2019-01-08  ...  Tuesday. Moneycontrol_com. Jio continues to ca...\n",
              "\n",
              "[3 rows x 30 columns]"
            ]
          },
          "metadata": {
            "tags": []
          },
          "execution_count": 64
        }
      ]
    },
    {
      "cell_type": "markdown",
      "metadata": {
        "id": "A6-zpBorKb0K"
      },
      "source": [
        "**Preprocessing Headline Text (with sample)**"
      ]
    },
    {
      "cell_type": "code",
      "metadata": {
        "colab": {
          "base_uri": "https://localhost:8080/",
          "height": 66,
          "referenced_widgets": [
            "50098983d33d4cfeb8ca14fb8e020aac",
            "6e10bfa118664571a03d708a728932e2",
            "71cbf6498e114f129edc2497d95035ad",
            "ddbdf5713bb840d08d225db95de867ec",
            "d7eb9c9b9f5f40999c391459b7d8881c",
            "dabf2c1566aa4ba389663f9302b22a54",
            "b2c52b6e07c44f90a394a595614c8036",
            "29e9eb90b23249419d7e70c485db7752"
          ]
        },
        "id": "hU8DX6suVvMX",
        "outputId": "1574be83-f70f-49e4-f109-5328d1bb6e6d"
      },
      "source": [
        "tokenizer = BertTokenizer.from_pretrained('bert-base-uncased')"
      ],
      "execution_count": 61,
      "outputs": [
        {
          "output_type": "display_data",
          "data": {
            "application/vnd.jupyter.widget-view+json": {
              "model_id": "50098983d33d4cfeb8ca14fb8e020aac",
              "version_minor": 0,
              "version_major": 2
            },
            "text/plain": [
              "HBox(children=(FloatProgress(value=0.0, description='Downloading', max=231508.0, style=ProgressStyle(descripti…"
            ]
          },
          "metadata": {
            "tags": []
          }
        },
        {
          "output_type": "stream",
          "text": [
            "\n"
          ],
          "name": "stdout"
        }
      ]
    },
    {
      "cell_type": "code",
      "metadata": {
        "colab": {
          "base_uri": "https://localhost:8080/"
        },
        "id": "VU-rYGWnVw_O",
        "outputId": "5e745031-6ef7-4735-b9f5-c1ecc9012254"
      },
      "source": [
        "sample_txt = data_src.iloc[0]['Headlines_inptxt']\r\n",
        "tokens = tokenizer.tokenize(sample_txt)\r\n",
        "token_ids = tokenizer.convert_tokens_to_ids(tokens)\r\n",
        "\r\n",
        "print(f'Input Text : {sample_txt}')\r\n",
        "print(f'    Tokens : {tokens}')\r\n",
        "print(f' Token IDs : {token_ids}')\r\n",
        "print(f'Input Length : {len(sample_txt.split())}')\r\n",
        "print(f'Token Length : {len(tokens)}')"
      ],
      "execution_count": 65,
      "outputs": [
        {
          "output_type": "stream",
          "text": [
            "Input Text : Monday. Moneycontrol_com. Jio continues to capture market share; Vodafone-Idea cedes ground\n",
            "    Tokens : ['monday', '.', 'money', '##con', '##tro', '##l', '_', 'com', '.', 'ji', '##o', 'continues', 'to', 'capture', 'market', 'share', ';', 'vo', '##da', '##fo', '##ne', '-', 'idea', 'ce', '##des', 'ground']\n",
            " Token IDs : [6928, 1012, 2769, 8663, 13181, 2140, 1035, 4012, 1012, 10147, 2080, 4247, 2000, 5425, 3006, 3745, 1025, 29536, 2850, 14876, 2638, 1011, 2801, 8292, 6155, 2598]\n",
            "Input Length : 11\n",
            "Token Length : 26\n"
          ],
          "name": "stdout"
        }
      ]
    },
    {
      "cell_type": "code",
      "metadata": {
        "id": "oEV9HTf7Vw8m"
      },
      "source": [
        "encoding = tokenizer.encode_plus(\r\n",
        "    sample_txt,\r\n",
        "    max_length = 32,\r\n",
        "    add_special_tokens = True,\r\n",
        "    padding='max_length',\r\n",
        "    truncation=True,\r\n",
        "    return_attention_mask = True,\r\n",
        "    return_token_type_ids = False,\r\n",
        "    return_tensors = 'pt'\r\n",
        ")"
      ],
      "execution_count": 68,
      "outputs": []
    },
    {
      "cell_type": "code",
      "metadata": {
        "colab": {
          "base_uri": "https://localhost:8080/"
        },
        "id": "3h4h7oMHYv-s",
        "outputId": "6a51e725-eb50-4486-dd61-d06ddb0788c7"
      },
      "source": [
        "encoding.keys()"
      ],
      "execution_count": 69,
      "outputs": [
        {
          "output_type": "execute_result",
          "data": {
            "text/plain": [
              "dict_keys(['input_ids', 'attention_mask'])"
            ]
          },
          "metadata": {
            "tags": []
          },
          "execution_count": 69
        }
      ]
    },
    {
      "cell_type": "code",
      "metadata": {
        "colab": {
          "base_uri": "https://localhost:8080/"
        },
        "id": "n-Lj9B9FYv5F",
        "outputId": "6b20ec88-6ea5-4f2e-e276-2db5012cd611"
      },
      "source": [
        "print(f'     input_ids :', encoding['input_ids'])\r\n",
        "print(f'attention_mask :', encoding['attention_mask'])"
      ],
      "execution_count": 70,
      "outputs": [
        {
          "output_type": "stream",
          "text": [
            "     input_ids : tensor([[  101,  6928,  1012,  2769,  8663, 13181,  2140,  1035,  4012,  1012,\n",
            "         10147,  2080,  4247,  2000,  5425,  3006,  3745,  1025, 29536,  2850,\n",
            "         14876,  2638,  1011,  2801,  8292,  6155,  2598,   102,     0,     0,\n",
            "             0,     0]])\n",
            "attention_mask : tensor([[1, 1, 1, 1, 1, 1, 1, 1, 1, 1, 1, 1, 1, 1, 1, 1, 1, 1, 1, 1, 1, 1, 1, 1,\n",
            "         1, 1, 1, 1, 0, 0, 0, 0]])\n"
          ],
          "name": "stdout"
        }
      ]
    },
    {
      "cell_type": "code",
      "metadata": {
        "id": "cndPJfsafyJT"
      },
      "source": [
        "data_src['num_tokens_hdl'] = data_src['Headlines_inptxt'].apply(lambda x : len(tokenizer.encode_plus(x, max_length=512)['input_ids']))"
      ],
      "execution_count": 72,
      "outputs": []
    },
    {
      "cell_type": "code",
      "metadata": {
        "colab": {
          "base_uri": "https://localhost:8080/",
          "height": 585
        },
        "id": "URuBDlc2fyGY",
        "outputId": "ab8c69ca-59da-4305-a18b-b620420099e7"
      },
      "source": [
        "# This plot will be used to decide on a suitable sequence length for tokenization\r\n",
        "\r\n",
        "fig, axs = plt.subplots(2, 2, figsize=(8, 8), sharey=False)\r\n",
        "\r\n",
        "axs[0][0].hist(data_src[data_src['Portal']=='MoneyControl']['num_words_hdl'])\r\n",
        "axs[1][0].hist(data_src[data_src['Portal']=='TheHindu']['num_words_hdl'])\r\n",
        "\r\n",
        "axs[0][1].hist(data_src[data_src['Portal']=='MoneyControl']['num_tokens_hdl'])\r\n",
        "axs[1][1].hist(data_src[data_src['Portal']=='TheHindu']['num_tokens_hdl'])\r\n",
        "\r\n",
        "plt.tight_layout()\r\n",
        "# 'TheHindu' was explicitly removed, hence we have empty graphs now."
      ],
      "execution_count": 73,
      "outputs": [
        {
          "output_type": "display_data",
          "data": {
            "image/png": "[encoded data removed]",
            "text/plain": [
              "<Figure size 576x576 with 4 Axes>"
            ]
          },
          "metadata": {
            "tags": [],
            "needs_background": "light"
          }
        }
      ]
    },
    {
      "cell_type": "markdown",
      "metadata": {
        "id": "m1-dFkILRKex"
      },
      "source": [
        "**Creating the Dataset (with sample)**"
      ]
    },
    {
      "cell_type": "code",
      "metadata": {
        "id": "9bRtGz2FtsQr"
      },
      "source": [
        "class headlineDataset(data.Dataset):\r\n",
        "\r\n",
        "    def __init__(self, headline, target, tokenizer, max_len):\r\n",
        "        self.headline = headline\r\n",
        "        self.target = target\r\n",
        "        self.tokenizer = tokenizer\r\n",
        "        self.max_len = max_len\r\n",
        "\r\n",
        "    def __len__(self):\r\n",
        "        return len(self.headline)\r\n",
        "\r\n",
        "    def __getitem__(self, item):\r\n",
        "        headline = str(self.headline[item])\r\n",
        "\r\n",
        "        encoding = tokenizer.encode_plus(\r\n",
        "            headline,\r\n",
        "            max_length = self.max_len,\r\n",
        "            add_special_tokens = True,\r\n",
        "            padding='max_length',\r\n",
        "            truncation=True,\r\n",
        "            return_attention_mask = True,\r\n",
        "            return_token_type_ids = False,\r\n",
        "            return_tensors = 'pt'\r\n",
        "        )\r\n",
        "\r\n",
        "        return {\r\n",
        "            'headline' : headline,\r\n",
        "            'input_ids' : encoding['input_ids'].flatten(),\r\n",
        "            'attention_mask' : encoding['attention_mask'].flatten(),\r\n",
        "            'targets' : torch.tensor(self.target[item], dtype = torch.long)\r\n",
        "        }"
      ],
      "execution_count": 75,
      "outputs": []
    },
    {
      "cell_type": "code",
      "metadata": {
        "id": "2WP25fW7tsOH"
      },
      "source": [
        "MAX_LEN = 64\r\n",
        "BATCH_SIZE = 32\r\n",
        "EPOCHS = 10\r\n",
        "RANDOM_SEED = 43"
      ],
      "execution_count": 76,
      "outputs": []
    },
    {
      "cell_type": "code",
      "metadata": {
        "id": "Njl-zfA8tsK4"
      },
      "source": [
        "df_train, df_test = train_test_split(data_src, test_size=0.2, random_state=RANDOM_SEED)\r\n",
        "df_val, df_test = train_test_split(df_test, test_size=0.5, random_state=RANDOM_SEED)"
      ],
      "execution_count": 77,
      "outputs": []
    },
    {
      "cell_type": "code",
      "metadata": {
        "id": "I1O4LgTWyLAz"
      },
      "source": [
        "def create_data_loader(df, tokenizer, max_len, batch_size):\r\n",
        "    dset = headlineDataset(\r\n",
        "        headline = df['Headlines_inptxt'].to_numpy(),\r\n",
        "        target = df['target_d1'].to_numpy(),\r\n",
        "        tokenizer = tokenizer,\r\n",
        "        max_len = max_len\r\n",
        "    )\r\n",
        "\r\n",
        "    return data.DataLoader(\r\n",
        "        dset,\r\n",
        "        batch_size = batch_size,\r\n",
        "        num_workers = 4\r\n",
        "    )"
      ],
      "execution_count": 78,
      "outputs": []
    },
    {
      "cell_type": "code",
      "metadata": {
        "id": "q5uT7Fd2yK4T"
      },
      "source": [
        "train_data_loader = create_data_loader(df_train, tokenizer, MAX_LEN, BATCH_SIZE)\r\n",
        "test_data_loader = create_data_loader(df_test, tokenizer, MAX_LEN, BATCH_SIZE)\r\n",
        "val_data_loader = create_data_loader(df_val, tokenizer, MAX_LEN, BATCH_SIZE)"
      ],
      "execution_count": 79,
      "outputs": []
    },
    {
      "cell_type": "code",
      "metadata": {
        "colab": {
          "base_uri": "https://localhost:8080/"
        },
        "id": "iiscG1BoyK1W",
        "outputId": "426a85bc-d637-49e8-c344-8cb3000fc2e6"
      },
      "source": [
        "data_sample = next(iter(train_data_loader))\r\n",
        "data_sample.keys()"
      ],
      "execution_count": 80,
      "outputs": [
        {
          "output_type": "execute_result",
          "data": {
            "text/plain": [
              "dict_keys(['headline', 'input_ids', 'attention_mask', 'targets'])"
            ]
          },
          "metadata": {
            "tags": []
          },
          "execution_count": 80
        }
      ]
    },
    {
      "cell_type": "code",
      "metadata": {
        "colab": {
          "base_uri": "https://localhost:8080/"
        },
        "id": "Tr2ahMua7NZY",
        "outputId": "2bde1c1d-4150-4ff0-e1b3-fb0feddcb972"
      },
      "source": [
        "print(data_sample['input_ids'].shape)\r\n",
        "print(data_sample['attention_mask'].shape)\r\n",
        "print(data_sample['targets'].shape)"
      ],
      "execution_count": 81,
      "outputs": [
        {
          "output_type": "stream",
          "text": [
            "torch.Size([32, 64])\n",
            "torch.Size([32, 64])\n",
            "torch.Size([32])\n"
          ],
          "name": "stdout"
        }
      ]
    },
    {
      "cell_type": "markdown",
      "metadata": {
        "id": "XjCAbHUKRQMB"
      },
      "source": [
        "**BERT Model (sample output)**"
      ]
    },
    {
      "cell_type": "code",
      "metadata": {
        "id": "iVicS-aP7NWj",
        "colab": {
          "base_uri": "https://localhost:8080/"
        },
        "outputId": "a0826888-a4b7-4a08-8929-229f1c78d1c1"
      },
      "source": [
        "PRE_TRAINED_MODEL_NAME = 'bert-base-uncased'\r\n",
        "device = torch.device(\"cuda:0\" if torch.cuda.is_available() else \"cpu\")\r\n",
        "print(device)"
      ],
      "execution_count": 82,
      "outputs": [
        {
          "output_type": "stream",
          "text": [
            "cuda:0\n"
          ],
          "name": "stdout"
        }
      ]
    },
    {
      "cell_type": "code",
      "metadata": {
        "id": "jZnb0MRl7NTY",
        "colab": {
          "base_uri": "https://localhost:8080/",
          "height": 114,
          "referenced_widgets": [
            "734b0bf14d584b6e9e248bee7346dcc1",
            "a8451e12ccfb4761813cce0b67d0c72f",
            "b164edffb8a64a0ba884e28667944f1d",
            "34a79f5eeebb4ab1b63a726999fb7cf8",
            "dbe5fbc5053944ac9ffa4dad5b3053e1",
            "bc250a633f3441f683dee7f461d19636",
            "c4e475d478bc4b7f9824703ff74a1d1f",
            "1669f5f4f2a840a6b991d43f4032cafd",
            "dc7d8a7d8ea54af3a2781fec914ecb09",
            "2dd5a555a9a14203a8afad1fabf4a61b",
            "62fd6cfd885b4fd292b1034d68ab1db3",
            "8b16af807e8a469584fb919cbdf4998d",
            "94c94011f6664203bb9fdd281165c6e3",
            "bc9fda4c6ccb4c52bea780a2c702ba4e",
            "0b465c208eb2483d896fcb8c240df30f",
            "7fdc420986fe40aba6282d047ef6858e"
          ]
        },
        "outputId": "93463ca4-42e1-4285-ee86-72cf6ef9ed1b"
      },
      "source": [
        "bert_model = BertModel.from_pretrained(PRE_TRAINED_MODEL_NAME)"
      ],
      "execution_count": 83,
      "outputs": [
        {
          "output_type": "display_data",
          "data": {
            "application/vnd.jupyter.widget-view+json": {
              "model_id": "734b0bf14d584b6e9e248bee7346dcc1",
              "version_minor": 0,
              "version_major": 2
            },
            "text/plain": [
              "HBox(children=(FloatProgress(value=0.0, description='Downloading', max=433.0, style=ProgressStyle(description_…"
            ]
          },
          "metadata": {
            "tags": []
          }
        },
        {
          "output_type": "stream",
          "text": [
            "\n"
          ],
          "name": "stdout"
        },
        {
          "output_type": "display_data",
          "data": {
            "application/vnd.jupyter.widget-view+json": {
              "model_id": "dc7d8a7d8ea54af3a2781fec914ecb09",
              "version_minor": 0,
              "version_major": 2
            },
            "text/plain": [
              "HBox(children=(FloatProgress(value=0.0, description='Downloading', max=440473133.0, style=ProgressStyle(descri…"
            ]
          },
          "metadata": {
            "tags": []
          }
        },
        {
          "output_type": "stream",
          "text": [
            "\n"
          ],
          "name": "stdout"
        }
      ]
    },
    {
      "cell_type": "code",
      "metadata": {
        "id": "0Wn2lHv0fyDo"
      },
      "source": [
        "bertout = bert_model(\r\n",
        "    input_ids = encoding['input_ids'],\r\n",
        "    attention_mask = encoding['attention_mask']\r\n",
        ")\r\n",
        "last_hidden_state, pooled_output = bertout[0], bertout[1]"
      ],
      "execution_count": 84,
      "outputs": []
    },
    {
      "cell_type": "code",
      "metadata": {
        "colab": {
          "base_uri": "https://localhost:8080/"
        },
        "id": "andZBnYTIr6h",
        "outputId": "a165630c-8ea5-47bf-e06f-e6ed35dfb4d3"
      },
      "source": [
        "print(encoding['input_ids'].shape)\r\n",
        "print(last_hidden_state.shape)\r\n",
        "print(pooled_output.shape)"
      ],
      "execution_count": 85,
      "outputs": [
        {
          "output_type": "stream",
          "text": [
            "torch.Size([1, 32])\n",
            "torch.Size([1, 32, 768])\n",
            "torch.Size([1, 768])\n"
          ],
          "name": "stdout"
        }
      ]
    },
    {
      "cell_type": "code",
      "metadata": {
        "colab": {
          "base_uri": "https://localhost:8080/"
        },
        "id": "a2LAWeTMWGK4",
        "outputId": "538c4ea9-aeba-4146-b492-a8e5e3dc0339"
      },
      "source": [
        "bert_model.config.hidden_size"
      ],
      "execution_count": 86,
      "outputs": [
        {
          "output_type": "execute_result",
          "data": {
            "text/plain": [
              "768"
            ]
          },
          "metadata": {
            "tags": []
          },
          "execution_count": 86
        }
      ]
    },
    {
      "cell_type": "markdown",
      "metadata": {
        "id": "RCIKFKfbWh8Z"
      },
      "source": [
        "**Building a Text Classifier**"
      ]
    },
    {
      "cell_type": "code",
      "metadata": {
        "id": "Jnplz6OQOBwB"
      },
      "source": [
        "class textClassifier(nn.Module):\r\n",
        "\r\n",
        "    def __init__(self, n_classes):\r\n",
        "        super(textClassifier, self).__init__()\r\n",
        "        self.bert = BertModel.from_pretrained(PRE_TRAINED_MODEL_NAME)\r\n",
        "        self.drop = nn.Dropout(p=0.3)\r\n",
        "        self.out = nn.Linear(self.bert.config.hidden_size, n_classes)\r\n",
        "\r\n",
        "    def forward(self, input_ids, attention_mask):\r\n",
        "        pooled_output = self.bert(\r\n",
        "            input_ids = input_ids,\r\n",
        "            attention_mask = attention_mask\r\n",
        "        )[1]\r\n",
        "        output = self.drop(pooled_output)\r\n",
        "        output = self.out(output)\r\n",
        "        return output"
      ],
      "execution_count": 87,
      "outputs": []
    },
    {
      "cell_type": "code",
      "metadata": {
        "id": "ChY0KzWJOBfQ"
      },
      "source": [
        "num_class = 2 # 0 is for 'down' and 1 is for 'up' movement of stock.\r\n",
        "model = textClassifier(num_class)\r\n",
        "model = model.to(device)"
      ],
      "execution_count": 88,
      "outputs": []
    },
    {
      "cell_type": "code",
      "metadata": {
        "id": "gMnXF8HKWGIJ",
        "colab": {
          "base_uri": "https://localhost:8080/"
        },
        "outputId": "d3df2775-219c-4cb7-a22c-b74cacca4d3a"
      },
      "source": [
        "input_ids = data_sample['input_ids'].to(device)\r\n",
        "attention_mask = data_sample['attention_mask'].to(device)\r\n",
        "\r\n",
        "print(input_ids.shape)\r\n",
        "print(attention_mask.shape)"
      ],
      "execution_count": 89,
      "outputs": [
        {
          "output_type": "stream",
          "text": [
            "torch.Size([32, 64])\n",
            "torch.Size([32, 64])\n"
          ],
          "name": "stdout"
        }
      ]
    },
    {
      "cell_type": "code",
      "metadata": {
        "colab": {
          "base_uri": "https://localhost:8080/"
        },
        "id": "P8ioLLGVcmBJ",
        "outputId": "b34f5ce9-2ea0-4601-d212-304aebec26b8"
      },
      "source": [
        "# Checking the outputs of bert model on this sample batch of input data\r\n",
        "F.softmax(model(input_ids, attention_mask), dim=1)"
      ],
      "execution_count": 90,
      "outputs": [
        {
          "output_type": "execute_result",
          "data": {
            "text/plain": [
              "tensor([[0.5748, 0.4252],\n",
              "        [0.6030, 0.3970],\n",
              "        [0.5319, 0.4681],\n",
              "        [0.6380, 0.3620],\n",
              "        [0.5162, 0.4838],\n",
              "        [0.4029, 0.5971],\n",
              "        [0.3307, 0.6693],\n",
              "        [0.5470, 0.4530],\n",
              "        [0.5810, 0.4190],\n",
              "        [0.5159, 0.4841],\n",
              "        [0.5789, 0.4211],\n",
              "        [0.4935, 0.5065],\n",
              "        [0.6290, 0.3710],\n",
              "        [0.4799, 0.5201],\n",
              "        [0.4470, 0.5530],\n",
              "        [0.4870, 0.5130],\n",
              "        [0.6404, 0.3596],\n",
              "        [0.6121, 0.3879],\n",
              "        [0.5973, 0.4027],\n",
              "        [0.5086, 0.4914],\n",
              "        [0.5924, 0.4076],\n",
              "        [0.6086, 0.3914],\n",
              "        [0.5190, 0.4810],\n",
              "        [0.5068, 0.4932],\n",
              "        [0.4787, 0.5213],\n",
              "        [0.5613, 0.4387],\n",
              "        [0.3409, 0.6591],\n",
              "        [0.4752, 0.5248],\n",
              "        [0.4990, 0.5010],\n",
              "        [0.5323, 0.4677],\n",
              "        [0.3907, 0.6093],\n",
              "        [0.4341, 0.5659]], device='cuda:0', grad_fn=<SoftmaxBackward>)"
            ]
          },
          "metadata": {
            "tags": []
          },
          "execution_count": 90
        }
      ]
    },
    {
      "cell_type": "markdown",
      "metadata": {
        "id": "LLr1Nz_lr6P1"
      },
      "source": [
        "**Training the Classifier**"
      ]
    },
    {
      "cell_type": "code",
      "metadata": {
        "id": "uRlj0qNgfXr_"
      },
      "source": [
        "optimizer = AdamW(model.parameters(), lr=2e-5, correct_bias=False)\r\n",
        "\r\n",
        "total_steps = len(train_data_loader)*EPOCHS\r\n",
        "\r\n",
        "scheduler = get_linear_schedule_with_warmup(\r\n",
        "    optimizer,\r\n",
        "    num_warmup_steps = 0,\r\n",
        "    num_training_steps = total_steps\r\n",
        ")\r\n",
        "\r\n",
        "loss_fn = nn.CrossEntropyLoss().to(device)"
      ],
      "execution_count": 91,
      "outputs": []
    },
    {
      "cell_type": "code",
      "metadata": {
        "id": "lXegGqDdcl7J"
      },
      "source": [
        "def train_epoch(model, data_loader, loss_fn, optimizer, device, scheduler, n_examples):\r\n",
        "    model = model.train()\r\n",
        "\r\n",
        "    losses = []\r\n",
        "    correct_predictions = 0\r\n",
        "\r\n",
        "    for d in data_loader:\r\n",
        "        input_ids = d['input_ids'].to(device)\r\n",
        "        attention_mask = d['attention_mask'].to(device)\r\n",
        "        targets = d['targets'].to(device)\r\n",
        "    \r\n",
        "        outputs = model(\r\n",
        "            input_ids = input_ids,\r\n",
        "            attention_mask = attention_mask\r\n",
        "        )\r\n",
        "\r\n",
        "        _, pred = torch.max(outputs, dim=1)\r\n",
        "        loss = loss_fn(outputs, targets)\r\n",
        "\r\n",
        "        correct_predictions += torch.sum(pred == targets)\r\n",
        "        losses.append(loss.item())\r\n",
        "\r\n",
        "        loss.backward()\r\n",
        "        nn.utils.clip_grad_norm_(model.parameters(), max_norm=1.0)\r\n",
        "        optimizer.step()\r\n",
        "        scheduler.step()\r\n",
        "        optimizer.zero_grad()\r\n",
        "\r\n",
        "    return correct_predictions.double()/n_examples, np.mean(losses)"
      ],
      "execution_count": 92,
      "outputs": []
    },
    {
      "cell_type": "code",
      "metadata": {
        "id": "5FeYJFI_Ir3J"
      },
      "source": [
        "def eval_model(model, data_loader, loss_fn, device, n_examples):\r\n",
        "    model = model.eval()\r\n",
        "\r\n",
        "    losses = []\r\n",
        "    correct_predictions = 0\r\n",
        "\r\n",
        "    with torch.no_grad():\r\n",
        "        for d in data_loader:\r\n",
        "            input_ids = d['input_ids'].to(device)\r\n",
        "            attention_mask = d['attention_mask'].to(device)\r\n",
        "            targets = d['targets'].to(device)\r\n",
        "        \r\n",
        "            outputs = model(\r\n",
        "                input_ids = input_ids,\r\n",
        "                attention_mask = attention_mask\r\n",
        "            )\r\n",
        "\r\n",
        "            _, pred = torch.max(outputs, dim=1)\r\n",
        "            loss = loss_fn(outputs, targets)\r\n",
        "\r\n",
        "            correct_predictions += torch.sum(pred == targets)\r\n",
        "            losses.append(loss.item())\r\n",
        "\r\n",
        "    return correct_predictions.double()/n_examples, np.mean(losses)"
      ],
      "execution_count": 93,
      "outputs": []
    },
    {
      "cell_type": "code",
      "metadata": {
        "id": "OuZMr2YCYv2V",
        "colab": {
          "base_uri": "https://localhost:8080/"
        },
        "outputId": "8676b683-ddb5-4d96-b425-7272559a8f40"
      },
      "source": [
        "%%time\r\n",
        "\r\n",
        "history = defaultdict(list)\r\n",
        "best_accuracy = 0\r\n",
        "\r\n",
        "for epoch in range(EPOCHS):\r\n",
        "    print(f'Epoch {epoch+1}/{EPOCHS}')\r\n",
        "    print('-' * 10)\r\n",
        "\r\n",
        "    train_acc, train_loss = train_epoch(model, train_data_loader, loss_fn, optimizer, device, scheduler, len(df_train))\r\n",
        "\r\n",
        "    print(f'Train Loss : {train_loss} Accuracy : {train_acc}')\r\n",
        "\r\n",
        "    val_acc, val_loss = eval_model(model, val_data_loader, loss_fn, device, len(df_val))\r\n",
        "\r\n",
        "    print(f'  Val Loss : {val_loss} Accuracy : {val_acc}')\r\n",
        "    print()\r\n",
        "\r\n",
        "    history['train_acc'].append('train_acc')\r\n",
        "    history['train_loss'].append('train_loss')\r\n",
        "    history['val_acc'].append('val_acc')\r\n",
        "    history['val_loss'].append('val_loss')\r\n",
        "\r\n",
        "    if val_acc > best_accuracy:\r\n",
        "        torch.save(model.state_dict(), 'bert_base_uncased_p1_headline.bin')\r\n",
        "        best_accuracy = val_acc"
      ],
      "execution_count": 94,
      "outputs": [
        {
          "output_type": "stream",
          "text": [
            "Epoch 1/10\n",
            "----------\n",
            "Train Loss : 0.7017640854315003 Accuracy : 0.502768206279763\n",
            "  Val Loss : 0.6926503742095267 Accuracy : 0.5193558377206565\n",
            "\n",
            "Epoch 2/10\n",
            "----------\n",
            "Train Loss : 0.6958451373594823 Accuracy : 0.505246041271439\n",
            "  Val Loss : 0.6919348039249382 Accuracy : 0.5174976772994735\n",
            "\n",
            "Epoch 3/10\n",
            "----------\n",
            "Train Loss : 0.6913689468609224 Accuracy : 0.5294436486120252\n",
            "  Val Loss : 0.6895234272031501 Accuracy : 0.5320532672654072\n",
            "\n",
            "Epoch 4/10\n",
            "----------\n",
            "Train Loss : 0.6801955845981541 Accuracy : 0.5674242130938093\n",
            "  Val Loss : 0.6949587234176031 Accuracy : 0.5305048002477547\n",
            "\n",
            "Epoch 5/10\n",
            "----------\n",
            "Train Loss : 0.6595575280930146 Accuracy : 0.6064113980409617\n",
            "  Val Loss : 0.7156173769790347 Accuracy : 0.5240012387736142\n",
            "\n",
            "Epoch 6/10\n",
            "----------\n",
            "Train Loss : 0.6395130550654808 Accuracy : 0.6316930581904061\n",
            "  Val Loss : 0.7492890505507441 Accuracy : 0.5264787860018582\n",
            "\n",
            "Epoch 7/10\n",
            "----------\n",
            "Train Loss : 0.6238465509792366 Accuracy : 0.6484184443842193\n",
            "  Val Loss : 0.7635898100267543 Accuracy : 0.5236915453700836\n",
            "\n",
            "Epoch 8/10\n",
            "----------\n",
            "Train Loss : 0.6104692336872662 Accuracy : 0.6615432266057532\n",
            "  Val Loss : 0.8007516896370614 Accuracy : 0.5274078662124496\n",
            "\n",
            "Epoch 9/10\n",
            "----------\n",
            "Train Loss : 0.6044235093021156 Accuracy : 0.6647953850323279\n",
            "  Val Loss : 0.7920942082263456 Accuracy : 0.5376277485289563\n",
            "\n",
            "Epoch 10/10\n",
            "----------\n",
            "Train Loss : 0.6019171400751808 Accuracy : 0.6698672035309148\n",
            "  Val Loss : 0.7900315534950483 Accuracy : 0.5323629606689377\n",
            "\n",
            "CPU times: user 33min 16s, sys: 18min 46s, total: 52min 3s\n",
            "Wall time: 52min 36s\n"
          ],
          "name": "stdout"
        }
      ]
    },
    {
      "cell_type": "markdown",
      "metadata": {
        "id": "VU1wZop8KPjn"
      },
      "source": [
        "**Evaluation**"
      ]
    },
    {
      "cell_type": "code",
      "metadata": {
        "id": "UZ3PSSuIDw-K"
      },
      "source": [
        "def get_stocktrend(model, data_loader):\r\n",
        "    model = model.eval()\r\n",
        "\r\n",
        "    headline_txt = []\r\n",
        "    predictions = []\r\n",
        "    prediction_probs = []\r\n",
        "    real_values = []\r\n",
        "\r\n",
        "    with torch.no_grad():\r\n",
        "        for d in data_loader:\r\n",
        "            headline = d['Headlines_inptxt']\r\n",
        "            input_ids = d['input_ids'].to(device)\r\n",
        "            attention_mask = d['attention_mask'].to(device)\r\n",
        "            targets = d['targets'].to(device)\r\n",
        "        \r\n",
        "            outputs = model(\r\n",
        "                input_ids = input_ids,\r\n",
        "                attention_mask = attention_mask\r\n",
        "            )\r\n",
        "\r\n",
        "            _, pred = torch.max(outputs, dim=1)\r\n",
        "\r\n",
        "            headline_txt.extend(headline)\r\n",
        "            predictions.extend(pred)\r\n",
        "            prediction_probs.extend(outputs)\r\n",
        "            real_values.extend(targets)\r\n",
        "\r\n",
        "    return headline_txt, predictions, prediction_probs, real_values"
      ],
      "execution_count": 95,
      "outputs": []
    },
    {
      "cell_type": "code",
      "metadata": {
        "id": "BuwZnwuIDw7H",
        "colab": {
          "base_uri": "https://localhost:8080/"
        },
        "outputId": "408ea652-ffa5-4f75-fc35-c453ef5bd5b4"
      },
      "source": [
        "test_acc, test_loss = eval_model(model, test_data_loader, loss_fn, device, len(df_test))\r\n",
        "print('Test Accuracy :', test_acc)"
      ],
      "execution_count": 96,
      "outputs": [
        {
          "output_type": "stream",
          "text": [
            "Test Accuracy : tensor(0.5361, device='cuda:0', dtype=torch.float64)\n"
          ],
          "name": "stdout"
        }
      ]
    },
    {
      "cell_type": "code",
      "metadata": {
        "id": "J9cmuVGeMQpd",
        "colab": {
          "base_uri": "https://localhost:8080/",
          "height": 279
        },
        "outputId": "f7496270-a6be-424f-e540-c6f5837da367"
      },
      "source": [
        "y_headline_txt, y_pred, y_pred_probs, y_test = get_stocktrend(model, test_data_loader)"
      ],
      "execution_count": 100,
      "outputs": [
        {
          "output_type": "error",
          "ename": "KeyError",
          "evalue": "ignored",
          "traceback": [
            "\u001b[0;31m---------------------------------------------------------------------------\u001b[0m",
            "\u001b[0;31mKeyError\u001b[0m                                  Traceback (most recent call last)",
            "\u001b[0;32m<ipython-input-100-b2cbbda9434d>\u001b[0m in \u001b[0;36m<module>\u001b[0;34m()\u001b[0m\n\u001b[0;32m----> 1\u001b[0;31m \u001b[0my_headline_txt\u001b[0m\u001b[0;34m,\u001b[0m \u001b[0my_pred\u001b[0m\u001b[0;34m,\u001b[0m \u001b[0my_pred_probs\u001b[0m\u001b[0;34m,\u001b[0m \u001b[0my_test\u001b[0m \u001b[0;34m=\u001b[0m \u001b[0mget_stocktrend\u001b[0m\u001b[0;34m(\u001b[0m\u001b[0mmodel\u001b[0m\u001b[0;34m,\u001b[0m \u001b[0mtest_data_loader\u001b[0m\u001b[0;34m)\u001b[0m\u001b[0;34m\u001b[0m\u001b[0;34m\u001b[0m\u001b[0m\n\u001b[0m",
            "\u001b[0;32m<ipython-input-95-fe31355e8ecf>\u001b[0m in \u001b[0;36mget_stocktrend\u001b[0;34m(model, data_loader)\u001b[0m\n\u001b[1;32m      9\u001b[0m     \u001b[0;32mwith\u001b[0m \u001b[0mtorch\u001b[0m\u001b[0;34m.\u001b[0m\u001b[0mno_grad\u001b[0m\u001b[0;34m(\u001b[0m\u001b[0;34m)\u001b[0m\u001b[0;34m:\u001b[0m\u001b[0;34m\u001b[0m\u001b[0;34m\u001b[0m\u001b[0m\n\u001b[1;32m     10\u001b[0m         \u001b[0;32mfor\u001b[0m \u001b[0md\u001b[0m \u001b[0;32min\u001b[0m \u001b[0mdata_loader\u001b[0m\u001b[0;34m:\u001b[0m\u001b[0;34m\u001b[0m\u001b[0;34m\u001b[0m\u001b[0m\n\u001b[0;32m---> 11\u001b[0;31m             \u001b[0mheadline\u001b[0m \u001b[0;34m=\u001b[0m \u001b[0md\u001b[0m\u001b[0;34m[\u001b[0m\u001b[0;34m'Headlines_inptxt'\u001b[0m\u001b[0;34m]\u001b[0m\u001b[0;34m\u001b[0m\u001b[0;34m\u001b[0m\u001b[0m\n\u001b[0m\u001b[1;32m     12\u001b[0m             \u001b[0minput_ids\u001b[0m \u001b[0;34m=\u001b[0m \u001b[0md\u001b[0m\u001b[0;34m[\u001b[0m\u001b[0;34m'input_ids'\u001b[0m\u001b[0;34m]\u001b[0m\u001b[0;34m.\u001b[0m\u001b[0mto\u001b[0m\u001b[0;34m(\u001b[0m\u001b[0mdevice\u001b[0m\u001b[0;34m)\u001b[0m\u001b[0;34m\u001b[0m\u001b[0;34m\u001b[0m\u001b[0m\n\u001b[1;32m     13\u001b[0m             \u001b[0mattention_mask\u001b[0m \u001b[0;34m=\u001b[0m \u001b[0md\u001b[0m\u001b[0;34m[\u001b[0m\u001b[0;34m'attention_mask'\u001b[0m\u001b[0;34m]\u001b[0m\u001b[0;34m.\u001b[0m\u001b[0mto\u001b[0m\u001b[0;34m(\u001b[0m\u001b[0mdevice\u001b[0m\u001b[0;34m)\u001b[0m\u001b[0;34m\u001b[0m\u001b[0;34m\u001b[0m\u001b[0m\n",
            "\u001b[0;31mKeyError\u001b[0m: 'Headlines_inptxt'"
          ]
        }
      ]
    },
    {
      "cell_type": "code",
      "metadata": {
        "id": "PXLaAj7UMznd",
        "colab": {
          "base_uri": "https://localhost:8080/",
          "height": 162
        },
        "outputId": "b870892d-96e6-4f88-f125-5bc1d904cee3"
      },
      "source": [
        "print(classification_report(y_test, y_pred, target_names=['Stock Mvm. Down', 'Stock Mvm. Up']))"
      ],
      "execution_count": 98,
      "outputs": [
        {
          "output_type": "error",
          "ename": "NameError",
          "evalue": "ignored",
          "traceback": [
            "\u001b[0;31m---------------------------------------------------------------------------\u001b[0m",
            "\u001b[0;31mNameError\u001b[0m                                 Traceback (most recent call last)",
            "\u001b[0;32m<ipython-input-98-3ff5434f5409>\u001b[0m in \u001b[0;36m<module>\u001b[0;34m()\u001b[0m\n\u001b[0;32m----> 1\u001b[0;31m \u001b[0mprint\u001b[0m\u001b[0;34m(\u001b[0m\u001b[0mclassification_report\u001b[0m\u001b[0;34m(\u001b[0m\u001b[0my_test\u001b[0m\u001b[0;34m,\u001b[0m \u001b[0my_pred\u001b[0m\u001b[0;34m,\u001b[0m \u001b[0mtarget_names\u001b[0m\u001b[0;34m=\u001b[0m\u001b[0;34m[\u001b[0m\u001b[0;34m'Stock Mvm. Down'\u001b[0m\u001b[0;34m,\u001b[0m \u001b[0;34m'Stock Mvm. Up'\u001b[0m\u001b[0;34m]\u001b[0m\u001b[0;34m)\u001b[0m\u001b[0;34m)\u001b[0m\u001b[0;34m\u001b[0m\u001b[0;34m\u001b[0m\u001b[0m\n\u001b[0m",
            "\u001b[0;31mNameError\u001b[0m: name 'classification_report' is not defined"
          ]
        }
      ]
    },
    {
      "cell_type": "code",
      "metadata": {
        "id": "29zDZ7l4NWeM",
        "colab": {
          "base_uri": "https://localhost:8080/"
        },
        "outputId": "3b5bec0a-ce36-435f-940d-f908b699ef74"
      },
      "source": [
        "!nvidia-smi"
      ],
      "execution_count": 99,
      "outputs": [
        {
          "output_type": "stream",
          "text": [
            "Wed Feb 10 11:05:38 2021       \n",
            "+-----------------------------------------------------------------------------+\n",
            "| NVIDIA-SMI 460.39       Driver Version: 418.67       CUDA Version: 10.1     |\n",
            "|-------------------------------+----------------------+----------------------+\n",
            "| GPU  Name        Persistence-M| Bus-Id        Disp.A | Volatile Uncorr. ECC |\n",
            "| Fan  Temp  Perf  Pwr:Usage/Cap|         Memory-Usage | GPU-Util  Compute M. |\n",
            "|                               |                      |               MIG M. |\n",
            "|===============================+======================+======================|\n",
            "|   0  Tesla T4            Off  | 00000000:00:04.0 Off |                    0 |\n",
            "| N/A   70C    P0    32W /  70W |   5765MiB / 15079MiB |      0%      Default |\n",
            "|                               |                      |                 ERR! |\n",
            "+-------------------------------+----------------------+----------------------+\n",
            "                                                                               \n",
            "+-----------------------------------------------------------------------------+\n",
            "| Processes:                                                                  |\n",
            "|  GPU   GI   CI        PID   Type   Process name                  GPU Memory |\n",
            "|        ID   ID                                                   Usage      |\n",
            "|=============================================================================|\n",
            "|  No running processes found                                                 |\n",
            "+-----------------------------------------------------------------------------+\n"
          ],
          "name": "stdout"
        }
      ]
    },
    {
      "cell_type": "code",
      "metadata": {
        "id": "QIGNaxBxNxBL"
      },
      "source": [
        ""
      ],
      "execution_count": null,
      "outputs": []
    },
    {
      "cell_type": "code",
      "metadata": {
        "id": "v_H7k8FNNw6y"
      },
      "source": [
        ""
      ],
      "execution_count": null,
      "outputs": []
    }
  ]
}