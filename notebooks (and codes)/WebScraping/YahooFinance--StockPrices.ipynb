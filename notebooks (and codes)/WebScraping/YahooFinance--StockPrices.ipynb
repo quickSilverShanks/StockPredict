{
 "cells": [
  {
   "cell_type": "code",
   "execution_count": 27,
   "metadata": {},
   "outputs": [],
   "source": [
    "import pandas as pd\n",
    "import re\n",
    "import requests\n",
    "from tqdm import tqdm\n",
    "import time\n",
    "from datetime import datetime, timedelta\n",
    "from io import StringIO"
   ]
  },
  {
   "cell_type": "code",
   "execution_count": 30,
   "metadata": {},
   "outputs": [],
   "source": [
    "# A python class to download historical stock prices in csv files.\n",
    "# It makes two requests, one to get the cookie and the crumb and another one to get the data.\n",
    "# Source : https://stackoverflow.com/questions/44225771/scraping-historical-data-from-yahoo-finance-with-python\n",
    "\n",
    "class YahooFinanceHistory:\n",
    "    timeout = 5\n",
    "    crumb_link = 'https://finance.yahoo.com/quote/{0}/history?p={0}'\n",
    "    crumble_regex = r'CrumbStore\":{\"crumb\":\"(.*?)\"}'\n",
    "    quote_link = 'https://query1.finance.yahoo.com/v7/finance/download/{quote}?period1={dfrom}&period2={dto}&interval=1d&events=history&crumb={crumb}'\n",
    "\n",
    "    def __init__(self, symbol, days_back=7):\n",
    "        self.symbol = symbol\n",
    "        self.session = requests.Session()\n",
    "        self.dt = timedelta(days=days_back)\n",
    "\n",
    "    def get_crumb(self):\n",
    "        response = self.session.get(self.crumb_link.format(self.symbol), timeout=self.timeout)\n",
    "        response.raise_for_status()\n",
    "        match = re.search(self.crumble_regex, response.text)\n",
    "        if not match:\n",
    "            raise ValueError('Could not get crumb from Yahoo Finance')\n",
    "        else:\n",
    "            self.crumb = match.group(1)\n",
    "\n",
    "    def get_quote(self):\n",
    "        if not hasattr(self, 'crumb') or len(self.session.cookies) == 0:\n",
    "            self.get_crumb()\n",
    "        now = datetime.utcnow()\n",
    "        dateto = int(now.timestamp())\n",
    "        datefrom = int((now - self.dt).timestamp())\n",
    "        url = self.quote_link.format(quote=self.symbol, dfrom=datefrom, dto=dateto, crumb=self.crumb)\n",
    "        response = self.session.get(url)\n",
    "        response.raise_for_status()\n",
    "        return pd.read_csv(StringIO(response.text), parse_dates=['Date'])"
   ]
  },
  {
   "cell_type": "code",
   "execution_count": 31,
   "metadata": {},
   "outputs": [
    {
     "data": {
      "text/html": [
       "<div>\n",
       "<style scoped>\n",
       "    .dataframe tbody tr th:only-of-type {\n",
       "        vertical-align: middle;\n",
       "    }\n",
       "\n",
       "    .dataframe tbody tr th {\n",
       "        vertical-align: top;\n",
       "    }\n",
       "\n",
       "    .dataframe thead th {\n",
       "        text-align: right;\n",
       "    }\n",
       "</style>\n",
       "<table border=\"1\" class=\"dataframe\">\n",
       "  <thead>\n",
       "    <tr style=\"text-align: right;\">\n",
       "      <th></th>\n",
       "      <th>Date</th>\n",
       "      <th>Open</th>\n",
       "      <th>High</th>\n",
       "      <th>Low</th>\n",
       "      <th>Close</th>\n",
       "      <th>Adj Close</th>\n",
       "      <th>Volume</th>\n",
       "    </tr>\n",
       "  </thead>\n",
       "  <tbody>\n",
       "    <tr>\n",
       "      <th>0</th>\n",
       "      <td>2020-10-19</td>\n",
       "      <td>402.049988</td>\n",
       "      <td>418.750000</td>\n",
       "      <td>401.149994</td>\n",
       "      <td>417.100006</td>\n",
       "      <td>417.100006</td>\n",
       "      <td>41072871</td>\n",
       "    </tr>\n",
       "    <tr>\n",
       "      <th>1</th>\n",
       "      <td>2020-10-20</td>\n",
       "      <td>413.500000</td>\n",
       "      <td>416.899994</td>\n",
       "      <td>411.000000</td>\n",
       "      <td>414.600006</td>\n",
       "      <td>414.600006</td>\n",
       "      <td>26158669</td>\n",
       "    </tr>\n",
       "    <tr>\n",
       "      <th>2</th>\n",
       "      <td>2020-10-21</td>\n",
       "      <td>416.000000</td>\n",
       "      <td>428.500000</td>\n",
       "      <td>410.299988</td>\n",
       "      <td>420.299988</td>\n",
       "      <td>420.299988</td>\n",
       "      <td>43124966</td>\n",
       "    </tr>\n",
       "    <tr>\n",
       "      <th>3</th>\n",
       "      <td>2020-10-22</td>\n",
       "      <td>416.399994</td>\n",
       "      <td>419.649994</td>\n",
       "      <td>407.649994</td>\n",
       "      <td>412.899994</td>\n",
       "      <td>412.899994</td>\n",
       "      <td>33088074</td>\n",
       "    </tr>\n",
       "    <tr>\n",
       "      <th>4</th>\n",
       "      <td>2020-10-23</td>\n",
       "      <td>417.000000</td>\n",
       "      <td>420.500000</td>\n",
       "      <td>411.750000</td>\n",
       "      <td>416.950012</td>\n",
       "      <td>416.950012</td>\n",
       "      <td>22151463</td>\n",
       "    </tr>\n",
       "  </tbody>\n",
       "</table>\n",
       "</div>"
      ],
      "text/plain": [
       "        Date        Open        High         Low       Close   Adj Close  \\\n",
       "0 2020-10-19  402.049988  418.750000  401.149994  417.100006  417.100006   \n",
       "1 2020-10-20  413.500000  416.899994  411.000000  414.600006  414.600006   \n",
       "2 2020-10-21  416.000000  428.500000  410.299988  420.299988  420.299988   \n",
       "3 2020-10-22  416.399994  419.649994  407.649994  412.899994  412.899994   \n",
       "4 2020-10-23  417.000000  420.500000  411.750000  416.950012  416.950012   \n",
       "\n",
       "     Volume  \n",
       "0  41072871  \n",
       "1  26158669  \n",
       "2  43124966  \n",
       "3  33088074  \n",
       "4  22151463  "
      ]
     },
     "execution_count": 31,
     "metadata": {},
     "output_type": "execute_result"
    }
   ],
   "source": [
    "# Sample Data\n",
    "df = YahooFinanceHistory('ICICIBANK.NS', days_back=30).get_quote()\n",
    "df.head()"
   ]
  },
  {
   "cell_type": "code",
   "execution_count": 32,
   "metadata": {},
   "outputs": [
    {
     "data": {
      "text/html": [
       "<div>\n",
       "<style scoped>\n",
       "    .dataframe tbody tr th:only-of-type {\n",
       "        vertical-align: middle;\n",
       "    }\n",
       "\n",
       "    .dataframe tbody tr th {\n",
       "        vertical-align: top;\n",
       "    }\n",
       "\n",
       "    .dataframe thead th {\n",
       "        text-align: right;\n",
       "    }\n",
       "</style>\n",
       "<table border=\"1\" class=\"dataframe\">\n",
       "  <thead>\n",
       "    <tr style=\"text-align: right;\">\n",
       "      <th></th>\n",
       "      <th>Sr.No.</th>\n",
       "      <th>Company Name</th>\n",
       "      <th>Sector</th>\n",
       "      <th>Weightage</th>\n",
       "      <th>thehindu_searchstring</th>\n",
       "      <th>mcontrol_substring</th>\n",
       "      <th>ticker</th>\n",
       "      <th>yfin_ticker</th>\n",
       "    </tr>\n",
       "  </thead>\n",
       "  <tbody>\n",
       "    <tr>\n",
       "      <th>0</th>\n",
       "      <td>1</td>\n",
       "      <td>Reliance Industries Ltd.</td>\n",
       "      <td>Petroleum Products</td>\n",
       "      <td>14.93%</td>\n",
       "      <td>reliance%20petroleum</td>\n",
       "      <td>RI</td>\n",
       "      <td>RELIANCE</td>\n",
       "      <td>RELIANCE</td>\n",
       "    </tr>\n",
       "    <tr>\n",
       "      <th>1</th>\n",
       "      <td>2</td>\n",
       "      <td>HDFC Bank Ltd.</td>\n",
       "      <td>Banks</td>\n",
       "      <td>9.69%</td>\n",
       "      <td>hdfc%20bank</td>\n",
       "      <td>HDF01</td>\n",
       "      <td>HDFCBANK</td>\n",
       "      <td>HDFCBANK</td>\n",
       "    </tr>\n",
       "    <tr>\n",
       "      <th>2</th>\n",
       "      <td>3</td>\n",
       "      <td>Infosys Limited</td>\n",
       "      <td>Software</td>\n",
       "      <td>7.63%</td>\n",
       "      <td>infosys</td>\n",
       "      <td>IT</td>\n",
       "      <td>INFY</td>\n",
       "      <td>INFY</td>\n",
       "    </tr>\n",
       "    <tr>\n",
       "      <th>3</th>\n",
       "      <td>4</td>\n",
       "      <td>Housing Development Fin. Corp. Ltd.</td>\n",
       "      <td>Finance</td>\n",
       "      <td>6.44%</td>\n",
       "      <td>hdfc</td>\n",
       "      <td>HDF</td>\n",
       "      <td>HDFC</td>\n",
       "      <td>HDFC</td>\n",
       "    </tr>\n",
       "    <tr>\n",
       "      <th>4</th>\n",
       "      <td>5</td>\n",
       "      <td>Tata Consultancy Services Ltd.</td>\n",
       "      <td>Software</td>\n",
       "      <td>5.41%</td>\n",
       "      <td>tcs</td>\n",
       "      <td>TCS</td>\n",
       "      <td>TCS</td>\n",
       "      <td>TCS</td>\n",
       "    </tr>\n",
       "  </tbody>\n",
       "</table>\n",
       "</div>"
      ],
      "text/plain": [
       "   Sr.No.                         Company Name              Sector Weightage  \\\n",
       "0       1             Reliance Industries Ltd.  Petroleum Products    14.93%   \n",
       "1       2                       HDFC Bank Ltd.               Banks     9.69%   \n",
       "2       3                      Infosys Limited            Software     7.63%   \n",
       "3       4  Housing Development Fin. Corp. Ltd.             Finance     6.44%   \n",
       "4       5       Tata Consultancy Services Ltd.            Software     5.41%   \n",
       "\n",
       "  thehindu_searchstring mcontrol_substring    ticker yfin_ticker  \n",
       "0  reliance%20petroleum                 RI  RELIANCE    RELIANCE  \n",
       "1           hdfc%20bank              HDF01  HDFCBANK    HDFCBANK  \n",
       "2               infosys                 IT      INFY        INFY  \n",
       "3                  hdfc                HDF      HDFC        HDFC  \n",
       "4                   tcs                TCS       TCS         TCS  "
      ]
     },
     "execution_count": 32,
     "metadata": {},
     "output_type": "execute_result"
    }
   ],
   "source": [
    "# Import Lookup Data\n",
    "nifty50_lookup = pd.read_csv(\"nifty50_lookuptable.csv\")\n",
    "nifty50_lookup.head()"
   ]
  },
  {
   "cell_type": "code",
   "execution_count": 13,
   "metadata": {},
   "outputs": [
    {
     "name": "stderr",
     "output_type": "stream",
     "text": [
      "100%|██████████████████████████████████████████████████████████████████████████████████| 50/50 [01:47<00:00,  2.15s/it]\n"
     ]
    }
   ],
   "source": [
    "# Sample scraping to validate yfin_ticker\n",
    "for tkr in tqdm(nifty50_lookup['yfin_ticker']):\n",
    "    df = YahooFinanceHistory(tkr+'.NS').get_quote()"
   ]
  },
  {
   "cell_type": "code",
   "execution_count": 33,
   "metadata": {},
   "outputs": [
    {
     "name": "stderr",
     "output_type": "stream",
     "text": [
      "\r",
      "  0%|                                                                                           | 0/50 [00:00<?, ?it/s]"
     ]
    },
    {
     "name": "stdout",
     "output_type": "stream",
     "text": [
      "Stock Prices Extracted for Past 3 Years for RELIANCE\n",
      "Total Usable Scraped Data : (738, 7)\n",
      "Oldest Available Article : 2017-11-20\n",
      "Data saved for RELIANCE : stocks_yfinance_RELIANCE_3yrs.pkl\n"
     ]
    },
    {
     "name": "stderr",
     "output_type": "stream",
     "text": [
      "\r",
      "  2%|█▋                                                                                 | 1/50 [00:07<05:46,  7.07s/it]"
     ]
    },
    {
     "name": "stdout",
     "output_type": "stream",
     "text": [
      "Stock Prices Extracted for Past 3 Years for HDFCBANK\n",
      "Total Usable Scraped Data : (738, 7)\n",
      "Oldest Available Article : 2017-11-20\n",
      "Data saved for HDFCBANK : stocks_yfinance_HDFCBANK_3yrs.pkl\n"
     ]
    },
    {
     "name": "stderr",
     "output_type": "stream",
     "text": [
      "\r",
      "  4%|███▎                                                                               | 2/50 [00:14<05:41,  7.11s/it]"
     ]
    },
    {
     "name": "stdout",
     "output_type": "stream",
     "text": [
      "Stock Prices Extracted for Past 3 Years for INFY\n",
      "Total Usable Scraped Data : (738, 7)\n",
      "Oldest Available Article : 2017-11-20\n",
      "Data saved for INFY : stocks_yfinance_INFY_3yrs.pkl\n"
     ]
    },
    {
     "name": "stderr",
     "output_type": "stream",
     "text": [
      "\r",
      "  6%|████▉                                                                              | 3/50 [00:22<05:51,  7.48s/it]"
     ]
    },
    {
     "name": "stdout",
     "output_type": "stream",
     "text": [
      "Stock Prices Extracted for Past 3 Years for HDFC\n",
      "Total Usable Scraped Data : (738, 7)\n",
      "Oldest Available Article : 2017-11-20\n",
      "Data saved for HDFC : stocks_yfinance_HDFC_3yrs.pkl\n"
     ]
    },
    {
     "name": "stderr",
     "output_type": "stream",
     "text": [
      "\r",
      "  8%|██████▋                                                                            | 4/50 [00:29<05:42,  7.44s/it]"
     ]
    },
    {
     "name": "stdout",
     "output_type": "stream",
     "text": [
      "Stock Prices Extracted for Past 3 Years for TCS\n",
      "Total Usable Scraped Data : (738, 7)\n",
      "Oldest Available Article : 2017-11-20\n",
      "Data saved for TCS : stocks_yfinance_TCS_3yrs.pkl\n"
     ]
    },
    {
     "name": "stderr",
     "output_type": "stream",
     "text": [
      "\r",
      " 10%|████████▎                                                                          | 5/50 [00:37<05:38,  7.52s/it]"
     ]
    },
    {
     "name": "stdout",
     "output_type": "stream",
     "text": [
      "Stock Prices Extracted for Past 3 Years for ICICIBANK\n",
      "Total Usable Scraped Data : (738, 7)\n",
      "Oldest Available Article : 2017-11-20\n",
      "Data saved for ICICIBANK : stocks_yfinance_ICICIBANK_3yrs.pkl\n"
     ]
    },
    {
     "name": "stderr",
     "output_type": "stream",
     "text": [
      "\r",
      " 12%|█████████▉                                                                         | 6/50 [00:44<05:23,  7.36s/it]"
     ]
    },
    {
     "name": "stdout",
     "output_type": "stream",
     "text": [
      "Stock Prices Extracted for Past 3 Years for KOTAKBANK\n",
      "Total Usable Scraped Data : (738, 7)\n",
      "Oldest Available Article : 2017-11-20\n",
      "Data saved for KOTAKBANK : stocks_yfinance_KOTAKBANK_3yrs.pkl\n"
     ]
    },
    {
     "name": "stderr",
     "output_type": "stream",
     "text": [
      "\r",
      " 14%|███████████▌                                                                       | 7/50 [00:52<05:17,  7.38s/it]"
     ]
    },
    {
     "name": "stdout",
     "output_type": "stream",
     "text": [
      "Stock Prices Extracted for Past 3 Years for HINDUNILVR\n",
      "Total Usable Scraped Data : (738, 7)\n",
      "Oldest Available Article : 2017-11-20\n",
      "Data saved for HINDUNILVR : stocks_yfinance_HINDUNILVR_3yrs.pkl\n"
     ]
    },
    {
     "name": "stderr",
     "output_type": "stream",
     "text": [
      "\r",
      " 16%|█████████████▎                                                                     | 8/50 [00:59<05:05,  7.28s/it]"
     ]
    },
    {
     "name": "stdout",
     "output_type": "stream",
     "text": [
      "Stock Prices Extracted for Past 3 Years for ITC\n",
      "Total Usable Scraped Data : (738, 7)\n",
      "Oldest Available Article : 2017-11-20\n",
      "Data saved for ITC : stocks_yfinance_ITC_3yrs.pkl\n"
     ]
    },
    {
     "name": "stderr",
     "output_type": "stream",
     "text": [
      "\r",
      " 18%|██████████████▉                                                                    | 9/50 [01:09<05:37,  8.22s/it]"
     ]
    },
    {
     "name": "stdout",
     "output_type": "stream",
     "text": [
      "Stock Prices Extracted for Past 3 Years for LT\n",
      "Total Usable Scraped Data : (738, 7)\n",
      "Oldest Available Article : 2017-11-20\n",
      "Data saved for LT : stocks_yfinance_LT_3yrs.pkl\n"
     ]
    },
    {
     "name": "stderr",
     "output_type": "stream",
     "text": [
      "\r",
      " 20%|████████████████▍                                                                 | 10/50 [01:16<05:16,  7.91s/it]"
     ]
    },
    {
     "name": "stdout",
     "output_type": "stream",
     "text": [
      "Stock Prices Extracted for Past 3 Years for AXISBANK\n",
      "Total Usable Scraped Data : (738, 7)\n",
      "Oldest Available Article : 2017-11-20\n",
      "Data saved for AXISBANK : stocks_yfinance_AXISBANK_3yrs.pkl\n"
     ]
    },
    {
     "name": "stderr",
     "output_type": "stream",
     "text": [
      "\r",
      " 22%|██████████████████                                                                | 11/50 [01:23<04:58,  7.66s/it]"
     ]
    },
    {
     "name": "stdout",
     "output_type": "stream",
     "text": [
      "Stock Prices Extracted for Past 3 Years for BHARTIARTL\n",
      "Total Usable Scraped Data : (738, 7)\n",
      "Oldest Available Article : 2017-11-20\n",
      "Data saved for BHARTIARTL : stocks_yfinance_BHARTIARTL_3yrs.pkl\n"
     ]
    },
    {
     "name": "stderr",
     "output_type": "stream",
     "text": [
      "\r",
      " 24%|███████████████████▋                                                              | 12/50 [01:30<04:45,  7.52s/it]"
     ]
    },
    {
     "name": "stdout",
     "output_type": "stream",
     "text": [
      "Stock Prices Extracted for Past 3 Years for ASIANPAINT\n",
      "Total Usable Scraped Data : (738, 7)\n",
      "Oldest Available Article : 2017-11-20\n",
      "Data saved for ASIANPAINT : stocks_yfinance_ASIANPAINT_3yrs.pkl\n"
     ]
    },
    {
     "name": "stderr",
     "output_type": "stream",
     "text": [
      "\r",
      " 26%|█████████████████████▎                                                            | 13/50 [01:38<04:42,  7.65s/it]"
     ]
    },
    {
     "name": "stdout",
     "output_type": "stream",
     "text": [
      "Stock Prices Extracted for Past 3 Years for MARUTI\n",
      "Total Usable Scraped Data : (738, 7)\n",
      "Oldest Available Article : 2017-11-20\n",
      "Data saved for MARUTI : stocks_yfinance_MARUTI_3yrs.pkl\n"
     ]
    },
    {
     "name": "stderr",
     "output_type": "stream",
     "text": [
      "\r",
      " 28%|██████████████████████▉                                                           | 14/50 [01:45<04:26,  7.41s/it]"
     ]
    },
    {
     "name": "stdout",
     "output_type": "stream",
     "text": [
      "Stock Prices Extracted for Past 3 Years for HCLTECH\n",
      "Total Usable Scraped Data : (738, 7)\n",
      "Oldest Available Article : 2017-11-20\n",
      "Data saved for HCLTECH : stocks_yfinance_HCLTECH_3yrs.pkl\n"
     ]
    },
    {
     "name": "stderr",
     "output_type": "stream",
     "text": [
      "\r",
      " 30%|████████████████████████▌                                                         | 15/50 [01:53<04:19,  7.43s/it]"
     ]
    },
    {
     "name": "stdout",
     "output_type": "stream",
     "text": [
      "Stock Prices Extracted for Past 3 Years for BAJFINANCE\n",
      "Total Usable Scraped Data : (738, 7)\n",
      "Oldest Available Article : 2017-11-20\n",
      "Data saved for BAJFINANCE : stocks_yfinance_BAJFINANCE_3yrs.pkl\n"
     ]
    },
    {
     "name": "stderr",
     "output_type": "stream",
     "text": [
      "\r",
      " 32%|██████████████████████████▏                                                       | 16/50 [02:00<04:14,  7.49s/it]"
     ]
    },
    {
     "name": "stdout",
     "output_type": "stream",
     "text": [
      "Stock Prices Extracted for Past 3 Years for SBIN\n",
      "Total Usable Scraped Data : (738, 7)\n",
      "Oldest Available Article : 2017-11-20\n",
      "Data saved for SBIN : stocks_yfinance_SBIN_3yrs.pkl\n"
     ]
    },
    {
     "name": "stderr",
     "output_type": "stream",
     "text": [
      "\r",
      " 34%|███████████████████████████▉                                                      | 17/50 [02:08<04:10,  7.59s/it]"
     ]
    },
    {
     "name": "stdout",
     "output_type": "stream",
     "text": [
      "Stock Prices Extracted for Past 3 Years for DRREDDY\n",
      "Total Usable Scraped Data : (738, 7)\n",
      "Oldest Available Article : 2017-11-20\n",
      "Data saved for DRREDDY : stocks_yfinance_DRREDDY_3yrs.pkl\n"
     ]
    },
    {
     "name": "stderr",
     "output_type": "stream",
     "text": [
      "\r",
      " 36%|█████████████████████████████▌                                                    | 18/50 [02:15<03:56,  7.39s/it]"
     ]
    },
    {
     "name": "stdout",
     "output_type": "stream",
     "text": [
      "Stock Prices Extracted for Past 3 Years for M%26M\n",
      "Total Usable Scraped Data : (738, 7)\n",
      "Oldest Available Article : 2017-11-20\n",
      "Data saved for M%26M : stocks_yfinance_M%26M_3yrs.pkl\n"
     ]
    },
    {
     "name": "stderr",
     "output_type": "stream",
     "text": [
      "\r",
      " 38%|███████████████████████████████▏                                                  | 19/50 [02:22<03:42,  7.16s/it]"
     ]
    },
    {
     "name": "stdout",
     "output_type": "stream",
     "text": [
      "Stock Prices Extracted for Past 3 Years for NESTLEIND\n",
      "Total Usable Scraped Data : (738, 7)\n",
      "Oldest Available Article : 2017-11-20\n",
      "Data saved for NESTLEIND : stocks_yfinance_NESTLEIND_3yrs.pkl\n"
     ]
    },
    {
     "name": "stderr",
     "output_type": "stream",
     "text": [
      "\r",
      " 40%|████████████████████████████████▊                                                 | 20/50 [02:29<03:32,  7.07s/it]"
     ]
    },
    {
     "name": "stdout",
     "output_type": "stream",
     "text": [
      "Stock Prices Extracted for Past 3 Years for SUNPHARMA\n",
      "Total Usable Scraped Data : (738, 7)\n",
      "Oldest Available Article : 2017-11-20\n",
      "Data saved for SUNPHARMA : stocks_yfinance_SUNPHARMA_3yrs.pkl\n"
     ]
    },
    {
     "name": "stderr",
     "output_type": "stream",
     "text": [
      "\r",
      " 42%|██████████████████████████████████▍                                               | 21/50 [02:37<03:36,  7.46s/it]"
     ]
    },
    {
     "name": "stdout",
     "output_type": "stream",
     "text": [
      "Stock Prices Extracted for Past 3 Years for TITAN\n",
      "Total Usable Scraped Data : (738, 7)\n",
      "Oldest Available Article : 2017-11-20\n",
      "Data saved for TITAN : stocks_yfinance_TITAN_3yrs.pkl\n"
     ]
    },
    {
     "name": "stderr",
     "output_type": "stream",
     "text": [
      "\r",
      " 44%|████████████████████████████████████                                              | 22/50 [02:44<03:25,  7.35s/it]"
     ]
    },
    {
     "name": "stdout",
     "output_type": "stream",
     "text": [
      "Stock Prices Extracted for Past 3 Years for TECHM\n",
      "Total Usable Scraped Data : (738, 7)\n",
      "Oldest Available Article : 2017-11-20\n",
      "Data saved for TECHM : stocks_yfinance_TECHM_3yrs.pkl\n"
     ]
    },
    {
     "name": "stderr",
     "output_type": "stream",
     "text": [
      "\r",
      " 46%|█████████████████████████████████████▋                                            | 23/50 [02:51<03:16,  7.28s/it]"
     ]
    },
    {
     "name": "stdout",
     "output_type": "stream",
     "text": [
      "Stock Prices Extracted for Past 3 Years for ULTRACEMCO\n",
      "Total Usable Scraped Data : (738, 7)\n",
      "Oldest Available Article : 2017-11-20\n",
      "Data saved for ULTRACEMCO : stocks_yfinance_ULTRACEMCO_3yrs.pkl\n"
     ]
    },
    {
     "name": "stderr",
     "output_type": "stream",
     "text": [
      "\r",
      " 48%|███████████████████████████████████████▎                                          | 24/50 [03:00<03:20,  7.70s/it]"
     ]
    },
    {
     "name": "stdout",
     "output_type": "stream",
     "text": [
      "Stock Prices Extracted for Past 3 Years for WIPRO\n",
      "Total Usable Scraped Data : (738, 7)\n",
      "Oldest Available Article : 2017-11-20\n",
      "Data saved for WIPRO : stocks_yfinance_WIPRO_3yrs.pkl\n"
     ]
    },
    {
     "name": "stderr",
     "output_type": "stream",
     "text": [
      "\r",
      " 50%|█████████████████████████████████████████                                         | 25/50 [03:06<03:03,  7.35s/it]"
     ]
    },
    {
     "name": "stdout",
     "output_type": "stream",
     "text": [
      "Stock Prices Extracted for Past 3 Years for BRITANNIA\n",
      "Total Usable Scraped Data : (738, 7)\n",
      "Oldest Available Article : 2017-11-20\n",
      "Data saved for BRITANNIA : stocks_yfinance_BRITANNIA_3yrs.pkl\n"
     ]
    },
    {
     "name": "stderr",
     "output_type": "stream",
     "text": [
      "\r",
      " 52%|██████████████████████████████████████████▋                                       | 26/50 [03:14<02:58,  7.43s/it]"
     ]
    },
    {
     "name": "stdout",
     "output_type": "stream",
     "text": [
      "Stock Prices Extracted for Past 3 Years for HDFCLIFE\n",
      "Total Usable Scraped Data : (738, 7)\n",
      "Oldest Available Article : 2017-11-20\n",
      "Data saved for HDFCLIFE : stocks_yfinance_HDFCLIFE_3yrs.pkl\n"
     ]
    },
    {
     "name": "stderr",
     "output_type": "stream",
     "text": [
      "\r",
      " 54%|████████████████████████████████████████████▎                                     | 27/50 [03:21<02:46,  7.24s/it]"
     ]
    },
    {
     "name": "stdout",
     "output_type": "stream",
     "text": [
      "Stock Prices Extracted for Past 3 Years for POWERGRID\n",
      "Total Usable Scraped Data : (738, 7)\n",
      "Oldest Available Article : 2017-11-20\n",
      "Data saved for POWERGRID : stocks_yfinance_POWERGRID_3yrs.pkl\n"
     ]
    },
    {
     "name": "stderr",
     "output_type": "stream",
     "text": [
      "\r",
      " 56%|█████████████████████████████████████████████▉                                    | 28/50 [03:28<02:38,  7.20s/it]"
     ]
    },
    {
     "name": "stdout",
     "output_type": "stream",
     "text": [
      "Stock Prices Extracted for Past 3 Years for NTPC\n",
      "Total Usable Scraped Data : (738, 7)\n",
      "Oldest Available Article : 2017-11-20\n",
      "Data saved for NTPC : stocks_yfinance_NTPC_3yrs.pkl\n"
     ]
    },
    {
     "name": "stderr",
     "output_type": "stream",
     "text": [
      "\r",
      " 58%|███████████████████████████████████████████████▌                                  | 29/50 [03:35<02:30,  7.18s/it]"
     ]
    },
    {
     "name": "stdout",
     "output_type": "stream",
     "text": [
      "Stock Prices Extracted for Past 3 Years for HEROMOTOCO\n",
      "Total Usable Scraped Data : (738, 7)\n",
      "Oldest Available Article : 2017-11-20\n",
      "Data saved for HEROMOTOCO : stocks_yfinance_HEROMOTOCO_3yrs.pkl\n"
     ]
    },
    {
     "name": "stderr",
     "output_type": "stream",
     "text": [
      "\r",
      " 60%|█████████████████████████████████████████████████▏                                | 30/50 [03:42<02:22,  7.13s/it]"
     ]
    },
    {
     "name": "stdout",
     "output_type": "stream",
     "text": [
      "Stock Prices Extracted for Past 3 Years for CIPLA\n",
      "Total Usable Scraped Data : (738, 7)\n",
      "Oldest Available Article : 2017-11-20\n",
      "Data saved for CIPLA : stocks_yfinance_CIPLA_3yrs.pkl\n"
     ]
    },
    {
     "name": "stderr",
     "output_type": "stream",
     "text": [
      "\r",
      " 62%|██████████████████████████████████████████████████▊                               | 31/50 [03:49<02:14,  7.06s/it]"
     ]
    },
    {
     "name": "stdout",
     "output_type": "stream",
     "text": [
      "Stock Prices Extracted for Past 3 Years for DIVISLAB\n",
      "Total Usable Scraped Data : (738, 7)\n",
      "Oldest Available Article : 2017-11-20\n",
      "Data saved for DIVISLAB : stocks_yfinance_DIVISLAB_3yrs.pkl\n"
     ]
    },
    {
     "name": "stderr",
     "output_type": "stream",
     "text": [
      "\r",
      " 64%|████████████████████████████████████████████████████▍                             | 32/50 [03:56<02:07,  7.10s/it]"
     ]
    },
    {
     "name": "stdout",
     "output_type": "stream",
     "text": [
      "Stock Prices Extracted for Past 3 Years for BAJAJ-AUTO\n",
      "Total Usable Scraped Data : (738, 7)\n",
      "Oldest Available Article : 2017-11-20\n",
      "Data saved for BAJAJ-AUTO : stocks_yfinance_BAJAJ-AUTO_3yrs.pkl\n"
     ]
    },
    {
     "name": "stderr",
     "output_type": "stream",
     "text": [
      "\r",
      " 66%|██████████████████████████████████████████████████████                            | 33/50 [04:03<01:57,  6.93s/it]"
     ]
    },
    {
     "name": "stdout",
     "output_type": "stream",
     "text": [
      "Stock Prices Extracted for Past 3 Years for BAJAJFINSV\n",
      "Total Usable Scraped Data : (738, 7)\n",
      "Oldest Available Article : 2017-11-20\n",
      "Data saved for BAJAJFINSV : stocks_yfinance_BAJAJFINSV_3yrs.pkl\n"
     ]
    },
    {
     "name": "stderr",
     "output_type": "stream",
     "text": [
      "\r",
      " 68%|███████████████████████████████████████████████████████▊                          | 34/50 [04:10<01:51,  6.97s/it]"
     ]
    },
    {
     "name": "stdout",
     "output_type": "stream",
     "text": [
      "Stock Prices Extracted for Past 3 Years for SBILIFE\n",
      "Total Usable Scraped Data : (738, 7)\n",
      "Oldest Available Article : 2017-11-20\n",
      "Data saved for SBILIFE : stocks_yfinance_SBILIFE_3yrs.pkl\n"
     ]
    },
    {
     "name": "stderr",
     "output_type": "stream",
     "text": [
      "\r",
      " 70%|█████████████████████████████████████████████████████████▍                        | 35/50 [04:18<01:51,  7.42s/it]"
     ]
    },
    {
     "name": "stdout",
     "output_type": "stream",
     "text": [
      "Stock Prices Extracted for Past 3 Years for EICHERMOT\n",
      "Total Usable Scraped Data : (738, 7)\n",
      "Oldest Available Article : 2017-11-20\n",
      "Data saved for EICHERMOT : stocks_yfinance_EICHERMOT_3yrs.pkl\n"
     ]
    },
    {
     "name": "stderr",
     "output_type": "stream",
     "text": [
      "\r",
      " 72%|███████████████████████████████████████████████████████████                       | 36/50 [04:25<01:42,  7.31s/it]"
     ]
    },
    {
     "name": "stdout",
     "output_type": "stream",
     "text": [
      "Stock Prices Extracted for Past 3 Years for INDUSINDBK\n",
      "Total Usable Scraped Data : (738, 7)\n",
      "Oldest Available Article : 2017-11-20\n",
      "Data saved for INDUSINDBK : stocks_yfinance_INDUSINDBK_3yrs.pkl\n"
     ]
    },
    {
     "name": "stderr",
     "output_type": "stream",
     "text": [
      "\r",
      " 74%|████████████████████████████████████████████████████████████▋                     | 37/50 [04:33<01:35,  7.33s/it]"
     ]
    },
    {
     "name": "stdout",
     "output_type": "stream",
     "text": [
      "Stock Prices Extracted for Past 3 Years for GRASIM\n",
      "Total Usable Scraped Data : (738, 7)\n",
      "Oldest Available Article : 2017-11-20\n",
      "Data saved for GRASIM : stocks_yfinance_GRASIM_3yrs.pkl\n"
     ]
    },
    {
     "name": "stderr",
     "output_type": "stream",
     "text": [
      "\r",
      " 76%|██████████████████████████████████████████████████████████████▎                   | 38/50 [04:40<01:26,  7.19s/it]"
     ]
    },
    {
     "name": "stdout",
     "output_type": "stream",
     "text": [
      "Stock Prices Extracted for Past 3 Years for BPCL\n",
      "Total Usable Scraped Data : (738, 7)\n",
      "Oldest Available Article : 2017-11-20\n",
      "Data saved for BPCL : stocks_yfinance_BPCL_3yrs.pkl\n"
     ]
    },
    {
     "name": "stderr",
     "output_type": "stream",
     "text": [
      "\r",
      " 78%|███████████████████████████████████████████████████████████████▉                  | 39/50 [04:47<01:18,  7.18s/it]"
     ]
    },
    {
     "name": "stdout",
     "output_type": "stream",
     "text": [
      "Stock Prices Extracted for Past 3 Years for JSWSTEEL\n",
      "Total Usable Scraped Data : (738, 7)\n",
      "Oldest Available Article : 2017-11-20\n",
      "Data saved for JSWSTEEL : stocks_yfinance_JSWSTEEL_3yrs.pkl\n"
     ]
    },
    {
     "name": "stderr",
     "output_type": "stream",
     "text": [
      "\r",
      " 80%|█████████████████████████████████████████████████████████████████▌                | 40/50 [04:55<01:14,  7.41s/it]"
     ]
    },
    {
     "name": "stdout",
     "output_type": "stream",
     "text": [
      "Stock Prices Extracted for Past 3 Years for UPL\n",
      "Total Usable Scraped Data : (738, 7)\n",
      "Oldest Available Article : 2017-11-20\n",
      "Data saved for UPL : stocks_yfinance_UPL_3yrs.pkl\n"
     ]
    },
    {
     "name": "stderr",
     "output_type": "stream",
     "text": [
      "\r",
      " 82%|███████████████████████████████████████████████████████████████████▏              | 41/50 [05:02<01:05,  7.27s/it]"
     ]
    },
    {
     "name": "stdout",
     "output_type": "stream",
     "text": [
      "Stock Prices Extracted for Past 3 Years for SHREECEM\n",
      "Total Usable Scraped Data : (738, 7)\n",
      "Oldest Available Article : 2017-11-20\n",
      "Data saved for SHREECEM : stocks_yfinance_SHREECEM_3yrs.pkl\n"
     ]
    },
    {
     "name": "stderr",
     "output_type": "stream",
     "text": [
      "\r",
      " 84%|████████████████████████████████████████████████████████████████████▉             | 42/50 [05:09<00:57,  7.18s/it]"
     ]
    },
    {
     "name": "stdout",
     "output_type": "stream",
     "text": [
      "Stock Prices Extracted for Past 3 Years for TATASTEEL\n",
      "Total Usable Scraped Data : (738, 7)\n",
      "Oldest Available Article : 2017-11-20\n",
      "Data saved for TATASTEEL : stocks_yfinance_TATASTEEL_3yrs.pkl\n"
     ]
    },
    {
     "name": "stderr",
     "output_type": "stream",
     "text": [
      "\r",
      " 86%|██████████████████████████████████████████████████████████████████████▌           | 43/50 [05:15<00:49,  7.03s/it]"
     ]
    },
    {
     "name": "stdout",
     "output_type": "stream",
     "text": [
      "Stock Prices Extracted for Past 3 Years for HINDALCO\n",
      "Total Usable Scraped Data : (738, 7)\n",
      "Oldest Available Article : 2017-11-20\n",
      "Data saved for HINDALCO : stocks_yfinance_HINDALCO_3yrs.pkl\n"
     ]
    },
    {
     "name": "stderr",
     "output_type": "stream",
     "text": [
      "\r",
      " 88%|████████████████████████████████████████████████████████████████████████▏         | 44/50 [05:22<00:42,  7.02s/it]"
     ]
    },
    {
     "name": "stdout",
     "output_type": "stream",
     "text": [
      "Stock Prices Extracted for Past 3 Years for ADANIPORTS\n",
      "Total Usable Scraped Data : (738, 7)\n",
      "Oldest Available Article : 2017-11-20\n",
      "Data saved for ADANIPORTS : stocks_yfinance_ADANIPORTS_3yrs.pkl\n"
     ]
    },
    {
     "name": "stderr",
     "output_type": "stream",
     "text": [
      "\r",
      " 90%|█████████████████████████████████████████████████████████████████████████▊        | 45/50 [05:29<00:34,  6.87s/it]"
     ]
    },
    {
     "name": "stdout",
     "output_type": "stream",
     "text": [
      "Stock Prices Extracted for Past 3 Years for ONGC\n",
      "Total Usable Scraped Data : (738, 7)\n",
      "Oldest Available Article : 2017-11-20\n",
      "Data saved for ONGC : stocks_yfinance_ONGC_3yrs.pkl\n"
     ]
    },
    {
     "name": "stderr",
     "output_type": "stream",
     "text": [
      "\r",
      " 92%|███████████████████████████████████████████████████████████████████████████▍      | 46/50 [05:36<00:28,  7.04s/it]"
     ]
    },
    {
     "name": "stdout",
     "output_type": "stream",
     "text": [
      "Stock Prices Extracted for Past 3 Years for COALINDIA\n",
      "Total Usable Scraped Data : (738, 7)\n",
      "Oldest Available Article : 2017-11-20\n",
      "Data saved for COALINDIA : stocks_yfinance_COALINDIA_3yrs.pkl\n"
     ]
    },
    {
     "name": "stderr",
     "output_type": "stream",
     "text": [
      "\r",
      " 94%|█████████████████████████████████████████████████████████████████████████████     | 47/50 [05:43<00:21,  7.07s/it]"
     ]
    },
    {
     "name": "stdout",
     "output_type": "stream",
     "text": [
      "Stock Prices Extracted for Past 3 Years for TATAMOTORS\n",
      "Total Usable Scraped Data : (738, 7)\n",
      "Oldest Available Article : 2017-11-20\n",
      "Data saved for TATAMOTORS : stocks_yfinance_TATAMOTORS_3yrs.pkl\n"
     ]
    },
    {
     "name": "stderr",
     "output_type": "stream",
     "text": [
      "\r",
      " 96%|██████████████████████████████████████████████████████████████████████████████▋   | 48/50 [05:51<00:14,  7.33s/it]"
     ]
    },
    {
     "name": "stdout",
     "output_type": "stream",
     "text": [
      "Stock Prices Extracted for Past 3 Years for IOC\n",
      "Total Usable Scraped Data : (738, 7)\n",
      "Oldest Available Article : 2017-11-20\n",
      "Data saved for IOC : stocks_yfinance_IOC_3yrs.pkl\n"
     ]
    },
    {
     "name": "stderr",
     "output_type": "stream",
     "text": [
      "\r",
      " 98%|████████████████████████████████████████████████████████████████████████████████▎ | 49/50 [05:58<00:07,  7.24s/it]"
     ]
    },
    {
     "name": "stdout",
     "output_type": "stream",
     "text": [
      "Stock Prices Extracted for Past 3 Years for GAIL\n",
      "Total Usable Scraped Data : (738, 7)\n",
      "Oldest Available Article : 2017-11-20\n",
      "Data saved for GAIL : stocks_yfinance_GAIL_3yrs.pkl\n"
     ]
    },
    {
     "name": "stderr",
     "output_type": "stream",
     "text": [
      "100%|██████████████████████████████████████████████████████████████████████████████████| 50/50 [06:05<00:00,  7.32s/it]\n"
     ]
    }
   ],
   "source": [
    "# Scraping for past 'yr' number of years\n",
    "yr = 3\n",
    "d = yr*365\n",
    "for tkr in tqdm(nifty50_lookup['yfin_ticker']):\n",
    "    df = YahooFinanceHistory(tkr+'.NS', days_back=d).get_quote()\n",
    "    print(\"Stock Prices Extracted for Past {} Years for {}\".format(yr, tkr))\n",
    "    print(\"Total Usable Scraped Data :\",df.shape)\n",
    "    filename = \"stocks_yfinance_\" + tkr + \"_3yrs\" + \".pkl\"\n",
    "    df.to_pickle(filename)\n",
    "    print(\"Oldest Available Article :\", min(df['Date']).date())\n",
    "    print(\"Data saved for {} : {}\".format(tkr, filename))\n",
    "    time.sleep(5)"
   ]
  }
 ],
 "metadata": {
  "kernelspec": {
   "display_name": "Python 3",
   "language": "python",
   "name": "python3"
  },
  "language_info": {
   "codemirror_mode": {
    "name": "ipython",
    "version": 3
   },
   "file_extension": ".py",
   "mimetype": "text/x-python",
   "name": "python",
   "nbconvert_exporter": "python",
   "pygments_lexer": "ipython3",
   "version": "3.6.9"
  }
 },
 "nbformat": 4,
 "nbformat_minor": 4
}
